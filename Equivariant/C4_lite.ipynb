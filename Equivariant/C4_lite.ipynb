{
 "cells": [
  {
   "cell_type": "code",
   "execution_count": 1,
   "metadata": {},
   "outputs": [
    {
     "name": "stderr",
     "output_type": "stream",
     "text": [
      "/home/diptarko/work/lib/python3.8/site-packages/tqdm/auto.py:22: TqdmWarning: IProgress not found. Please update jupyter and ipywidgets. See https://ipywidgets.readthedocs.io/en/stable/user_install.html\n",
      "  from .autonotebook import tqdm as notebook_tqdm\n"
     ]
    }
   ],
   "source": [
    "import numpy as np\n",
    "import torch\n",
    "import matplotlib.pyplot as plt\n",
    "import model_lite as eq_model"
   ]
  },
  {
   "cell_type": "code",
   "execution_count": 2,
   "metadata": {},
   "outputs": [],
   "source": [
    "import numpy as np\n",
    "import torch.nn as nn\n",
    "import torch\n",
    "from torchvision import datasets, models, transforms\n",
    "\n",
    "from tqdm.auto import tqdm\n",
    "import matplotlib.pyplot as plt\n",
    "import numpy as np\n",
    "from torchvision.utils import make_grid\n",
    "from torch.utils.data import DataLoader\n",
    "import matplotlib.pyplot as plt\n",
    "from sklearn.metrics import accuracy_score\n",
    "from sklearn.metrics import roc_curve\n",
    "from sklearn import metrics\n",
    "import gc\n",
    "\n",
    "import torch\n",
    "import torch.nn as nn\n",
    "\n",
    "from einops import rearrange\n",
    "from einops.layers.torch import Rearrange\n",
    "\n",
    "\n",
    "    \n",
    "def metric(y_true, y_pred):\n",
    "    fpr, tpr, thresholds = roc_curve(y_true, y_pred)\n",
    "    auc = metrics.auc(fpr, tpr)\n",
    "    return auc\n",
    "\n",
    "def straightner(a):\n",
    "    A = np.zeros((a[0].shape[0]*len(a)))\n",
    "    start_index = 0\n",
    "    end_index = 0\n",
    "    for i in range(len(a)):\n",
    "        start_index = i*a[0].shape[0]\n",
    "        end_index = start_index+a[0].shape[0]\n",
    "        A[start_index:end_index] = a[i]\n",
    "    return A\n",
    "\n",
    "def predictor(outputs):\n",
    "    return np.argmax(outputs, axis = 1)\n",
    "\n",
    "def trainer():\n",
    "    model = eq_model.model(channels=3,N=4, group = \"cyclic\")\n",
    "    \n",
    "    train_transform = transforms.Compose([transforms.ToTensor()])\n",
    "    test_transform = transforms.Compose([transforms.ToTensor()])\n",
    "    \n",
    "    \n",
    "    dataset_Train = datasets.ImageFolder('./Data/Train/', transform=train_transform)\n",
    "    dataset_Test = datasets.ImageFolder('./Data/Test/', transform =test_transform)\n",
    "    dataloader_train = torch.utils.data.DataLoader(dataset_Train, batch_size=64, shuffle=True, drop_last = True, num_workers=4, pin_memory = True)\n",
    "    dataloader_test = torch.utils.data.DataLoader(dataset_Test, batch_size=64, shuffle=True, drop_last = True, num_workers=4, pin_memory = True)    \n",
    "    \n",
    "    \n",
    "    optimizer = torch.optim.Adam(model.parameters(), lr = 0.001)\n",
    "    criterion = nn.BCEWithLogitsLoss()\n",
    "    scheduler = torch.optim.lr_scheduler.ReduceLROnPlateau(optimizer, 'max', verbose = True,threshold = 0.0001,patience = 3, factor = 0.5)\n",
    "    \n",
    "    model = model.to(\"cuda:0\")\n",
    "    \n",
    "\n",
    "\n",
    "    import wandb\n",
    "    wandb.login(key=\"cb53927c12bd57a0d943d2dedf7881cfcdcc8f09\")\n",
    "    wandb.init(\n",
    "        project = \"Equivariant\",\n",
    "        name = \"C4_lite\"\n",
    "    )\n",
    "\n",
    "    scaler = torch.cuda.amp.GradScaler()\n",
    "    #--------------------------\n",
    "    wandb.watch(model, log_freq=50)\n",
    "    #---------------------------\n",
    "    w_intr = 50\n",
    "\n",
    "    for epoch in range(40):\n",
    "        train_loss = 0\n",
    "        val_loss = 0\n",
    "        train_steps = 0\n",
    "        test_steps = 0\n",
    "        label_list = []\n",
    "        outputs_list = []\n",
    "        train_auc = 0\n",
    "        test_auc = 0\n",
    "        model.train()\n",
    "        for image, label in tqdm(dataloader_train):\n",
    "            image = image.to(\"cuda:0\")\n",
    "            label = label.to(\"cuda:0\")\n",
    "            with torch.no_grad():\n",
    "                image = nn.functional.pad(image, (2,1,2,1))\n",
    "            #optimizer.zero_grad()\n",
    "            for param in model.parameters():\n",
    "                param.grad = None\n",
    "\n",
    "            with torch.cuda.amp.autocast():\n",
    "              outputs = model(image)\n",
    "              loss = criterion(outputs, label.float())\n",
    "            label_list.append(label.detach().cpu().numpy())\n",
    "            outputs_list.append(outputs.detach().cpu().numpy())\n",
    "            scaler.scale(loss).backward()\n",
    "            scaler.step(optimizer)\n",
    "            scaler.update()\n",
    "            train_loss += loss.item()\n",
    "            train_steps += 1\n",
    "            if train_steps%w_intr == 0:\n",
    "                 wandb.log({\"loss\": loss.item()})\n",
    "        with torch.no_grad():\n",
    "            label_list = straightner(label_list)\n",
    "            outputs_list = straightner(outputs_list)\n",
    "            train_auc = metric(label_list, outputs_list) \n",
    "\n",
    "\n",
    "\n",
    "\n",
    "        #-------------------------------------------------------------------\n",
    "        model.eval()\n",
    "        label_list = []\n",
    "        outputs_list = []\n",
    "        with torch.no_grad():\n",
    "            for image, label in tqdm(dataloader_test):\n",
    "                image = image.to(\"cuda:0\")\n",
    "                label = label.to(\"cuda:0\")\n",
    "                image = nn.functional.pad(image, (2,1,2,1))\n",
    "                outputs = model(image)\n",
    "                loss = criterion(outputs, label.float())\n",
    "                label_list.append(label.detach().cpu().numpy())\n",
    "                outputs_list.append(outputs.detach().cpu().numpy())\n",
    "                val_loss += loss.item()\n",
    "                test_steps +=1\n",
    "                if test_steps%w_intr == 0:\n",
    "                 wandb.log({\"val_loss\": loss.item()})\n",
    "            label_list = straightner(label_list)\n",
    "            outputs_list = straightner(outputs_list)\n",
    "            test_auc = metric(label_list, outputs_list)\n",
    "\n",
    "        train_loss = train_loss/train_steps\n",
    "        val_loss = val_loss/ test_steps\n",
    "        \n",
    "        print(\"----------------------------------------------------\")\n",
    "        print(\"Epoch No\" , epoch)\n",
    "        print(\"The Training loss of the epoch, \",train_loss)\n",
    "        print(\"The Training AUC of the epoch,  %.5f\"%train_auc)\n",
    "        print(\"The validation loss of the epoch, \",val_loss)\n",
    "        print(\"The validation AUC of the epoch, %.5f\"%test_auc)\n",
    "        print(\"----------------------------------------------------\")\n",
    "        PATH = f\"model_Epoch_{epoch}.pt\"\n",
    "#         torch.save({\n",
    "#                 'epoch': epoch,\n",
    "#                 'model_state_dict': model.state_dict(),\n",
    "#                 'optimizer_state_dict': optimizer.state_dict(),\n",
    "#                 'scheduler': scheduler.state_dict()\n",
    "#                 }, PATH)\n",
    "        scheduler.step(test_auc)\n",
    "        curr_lr = scheduler._last_lr[0]\n",
    "        wandb.log({\"Train_auc_epoch\": train_auc,\n",
    "                  \"Epoch\": epoch,\n",
    "                  \"Val_auc_epoch\": test_auc,\n",
    "                  \"Train_loss_epoch\": train_loss,\n",
    "                  \"Val_loss_epoch\": val_loss,\n",
    "                  \"Lr\": curr_lr}\n",
    "                 )\n",
    "        gc.collect()\n",
    "    \n",
    "    wandb.finish()\n"
   ]
  },
  {
   "cell_type": "code",
   "execution_count": 3,
   "metadata": {
    "scrolled": false
   },
   "outputs": [
    {
     "name": "stderr",
     "output_type": "stream",
     "text": [
      "/home/diptarko/work/lib/python3.8/site-packages/e2cnn/nn/modules/r2_conv/basisexpansion_singleblock.py:80: UserWarning: indexing with dtype torch.uint8 is now deprecated, please use a dtype torch.bool instead. (Triggered internally at ../aten/src/ATen/native/IndexingUtils.h:27.)\n",
      "  full_mask[mask] = norms.to(torch.uint8)\n",
      "\u001b[34m\u001b[1mwandb\u001b[0m: Currently logged in as: \u001b[33mdc250601\u001b[0m. Use \u001b[1m`wandb login --relogin`\u001b[0m to force relogin\n",
      "\u001b[34m\u001b[1mwandb\u001b[0m: \u001b[33mWARNING\u001b[0m If you're specifying your api key in code, ensure this code is not shared publicly.\n",
      "\u001b[34m\u001b[1mwandb\u001b[0m: \u001b[33mWARNING\u001b[0m Consider setting the WANDB_API_KEY environment variable, or running `wandb login` from the command line.\n",
      "\u001b[34m\u001b[1mwandb\u001b[0m: Appending key for api.wandb.ai to your netrc file: /home/diptarko/.netrc\n"
     ]
    },
    {
     "data": {
      "text/html": [
       "wandb version 0.14.0 is available!  To upgrade, please run:\n",
       " $ pip install wandb --upgrade"
      ],
      "text/plain": [
       "<IPython.core.display.HTML object>"
      ]
     },
     "metadata": {},
     "output_type": "display_data"
    },
    {
     "data": {
      "text/html": [
       "Tracking run with wandb version 0.13.10"
      ],
      "text/plain": [
       "<IPython.core.display.HTML object>"
      ]
     },
     "metadata": {},
     "output_type": "display_data"
    },
    {
     "data": {
      "text/html": [
       "Run data is saved locally in <code>/home/diptarko/G23/wandb/run-20230402_220148-hqauau5y</code>"
      ],
      "text/plain": [
       "<IPython.core.display.HTML object>"
      ]
     },
     "metadata": {},
     "output_type": "display_data"
    },
    {
     "data": {
      "text/html": [
       "Syncing run <strong><a href='https://wandb.ai/dc250601/Equivariant/runs/hqauau5y' target=\"_blank\">C4_lite</a></strong> to <a href='https://wandb.ai/dc250601/Equivariant' target=\"_blank\">Weights & Biases</a> (<a href='https://wandb.me/run' target=\"_blank\">docs</a>)<br/>"
      ],
      "text/plain": [
       "<IPython.core.display.HTML object>"
      ]
     },
     "metadata": {},
     "output_type": "display_data"
    },
    {
     "data": {
      "text/html": [
       " View project at <a href='https://wandb.ai/dc250601/Equivariant' target=\"_blank\">https://wandb.ai/dc250601/Equivariant</a>"
      ],
      "text/plain": [
       "<IPython.core.display.HTML object>"
      ]
     },
     "metadata": {},
     "output_type": "display_data"
    },
    {
     "data": {
      "text/html": [
       " View run at <a href='https://wandb.ai/dc250601/Equivariant/runs/hqauau5y' target=\"_blank\">https://wandb.ai/dc250601/Equivariant/runs/hqauau5y</a>"
      ],
      "text/plain": [
       "<IPython.core.display.HTML object>"
      ]
     },
     "metadata": {},
     "output_type": "display_data"
    },
    {
     "name": "stderr",
     "output_type": "stream",
     "text": [
      "100%|██████████████████████████████████████████████████████████████████████████████████████████████████████████████████████████████████████████████████████████████████████████| 1740/1740 [02:46<00:00, 10.44it/s]\n",
      "100%|████████████████████████████████████████████████████████████████████████████████████████████████████████████████████████████████████████████████████████████████████████████| 435/435 [00:10<00:00, 40.03it/s]\n"
     ]
    },
    {
     "name": "stdout",
     "output_type": "stream",
     "text": [
      "----------------------------------------------------\n",
      "Epoch No 0\n",
      "The Training loss of the epoch,  0.5759353584427943\n",
      "The Training AUC of the epoch,  0.76970\n",
      "The validation loss of the epoch,  0.6245230620619895\n",
      "The validation AUC of the epoch, 0.76905\n",
      "----------------------------------------------------\n"
     ]
    },
    {
     "name": "stderr",
     "output_type": "stream",
     "text": [
      "100%|██████████████████████████████████████████████████████████████████████████████████████████████████████████████████████████████████████████████████████████████████████████| 1740/1740 [02:46<00:00, 10.45it/s]\n",
      "100%|████████████████████████████████████████████████████████████████████████████████████████████████████████████████████████████████████████████████████████████████████████████| 435/435 [00:10<00:00, 39.94it/s]\n"
     ]
    },
    {
     "name": "stdout",
     "output_type": "stream",
     "text": [
      "----------------------------------------------------\n",
      "Epoch No 1\n",
      "The Training loss of the epoch,  0.5620464767532787\n",
      "The Training AUC of the epoch,  0.78351\n",
      "The validation loss of the epoch,  0.5610668711963741\n",
      "The validation AUC of the epoch, 0.78676\n",
      "----------------------------------------------------\n"
     ]
    },
    {
     "name": "stderr",
     "output_type": "stream",
     "text": [
      "100%|██████████████████████████████████████████████████████████████████████████████████████████████████████████████████████████████████████████████████████████████████████████| 1740/1740 [02:50<00:00, 10.21it/s]\n",
      "100%|████████████████████████████████████████████████████████████████████████████████████████████████████████████████████████████████████████████████████████████████████████████| 435/435 [00:10<00:00, 39.62it/s]\n"
     ]
    },
    {
     "name": "stdout",
     "output_type": "stream",
     "text": [
      "----------------------------------------------------\n",
      "Epoch No 2\n",
      "The Training loss of the epoch,  0.5571864970114039\n",
      "The Training AUC of the epoch,  0.78834\n",
      "The validation loss of the epoch,  0.559077318714953\n",
      "The validation AUC of the epoch, 0.78850\n",
      "----------------------------------------------------\n"
     ]
    },
    {
     "name": "stderr",
     "output_type": "stream",
     "text": [
      "100%|██████████████████████████████████████████████████████████████████████████████████████████████████████████████████████████████████████████████████████████████████████████| 1740/1740 [02:47<00:00, 10.41it/s]\n",
      "100%|████████████████████████████████████████████████████████████████████████████████████████████████████████████████████████████████████████████████████████████████████████████| 435/435 [00:10<00:00, 39.71it/s]\n"
     ]
    },
    {
     "name": "stdout",
     "output_type": "stream",
     "text": [
      "----------------------------------------------------\n",
      "Epoch No 3\n",
      "The Training loss of the epoch,  0.5533777368651039\n",
      "The Training AUC of the epoch,  0.79195\n",
      "The validation loss of the epoch,  0.5583007205491779\n",
      "The validation AUC of the epoch, 0.78899\n",
      "----------------------------------------------------\n"
     ]
    },
    {
     "name": "stderr",
     "output_type": "stream",
     "text": [
      "100%|██████████████████████████████████████████████████████████████████████████████████████████████████████████████████████████████████████████████████████████████████████████| 1740/1740 [03:18<00:00,  8.75it/s]\n",
      "100%|████████████████████████████████████████████████████████████████████████████████████████████████████████████████████████████████████████████████████████████████████████████| 435/435 [00:11<00:00, 36.69it/s]\n"
     ]
    },
    {
     "name": "stdout",
     "output_type": "stream",
     "text": [
      "----------------------------------------------------\n",
      "Epoch No 4\n",
      "The Training loss of the epoch,  0.5505213772428447\n",
      "The Training AUC of the epoch,  0.79459\n",
      "The validation loss of the epoch,  0.5563695643139982\n",
      "The validation AUC of the epoch, 0.79170\n",
      "----------------------------------------------------\n"
     ]
    },
    {
     "name": "stderr",
     "output_type": "stream",
     "text": [
      "100%|██████████████████████████████████████████████████████████████████████████████████████████████████████████████████████████████████████████████████████████████████████████| 1740/1740 [02:56<00:00,  9.85it/s]\n",
      "100%|████████████████████████████████████████████████████████████████████████████████████████████████████████████████████████████████████████████████████████████████████████████| 435/435 [00:10<00:00, 39.81it/s]\n"
     ]
    },
    {
     "name": "stdout",
     "output_type": "stream",
     "text": [
      "----------------------------------------------------\n",
      "Epoch No 5\n",
      "The Training loss of the epoch,  0.5478792414240453\n",
      "The Training AUC of the epoch,  0.79705\n",
      "The validation loss of the epoch,  0.5905070304185495\n",
      "The validation AUC of the epoch, 0.78976\n",
      "----------------------------------------------------\n"
     ]
    },
    {
     "name": "stderr",
     "output_type": "stream",
     "text": [
      "100%|██████████████████████████████████████████████████████████████████████████████████████████████████████████████████████████████████████████████████████████████████████████| 1740/1740 [03:59<00:00,  7.26it/s]\n",
      "100%|████████████████████████████████████████████████████████████████████████████████████████████████████████████████████████████████████████████████████████████████████████████| 435/435 [00:20<00:00, 20.91it/s]\n"
     ]
    },
    {
     "name": "stdout",
     "output_type": "stream",
     "text": [
      "----------------------------------------------------\n",
      "Epoch No 6\n",
      "The Training loss of the epoch,  0.5454521027104607\n",
      "The Training AUC of the epoch,  0.79929\n",
      "The validation loss of the epoch,  0.5651615100345392\n",
      "The validation AUC of the epoch, 0.79280\n",
      "----------------------------------------------------\n"
     ]
    },
    {
     "name": "stderr",
     "output_type": "stream",
     "text": [
      "100%|██████████████████████████████████████████████████████████████████████████████████████████████████████████████████████████████████████████████████████████████████████████| 1740/1740 [03:15<00:00,  8.92it/s]\n",
      "100%|████████████████████████████████████████████████████████████████████████████████████████████████████████████████████████████████████████████████████████████████████████████| 435/435 [00:11<00:00, 39.54it/s]\n"
     ]
    },
    {
     "name": "stdout",
     "output_type": "stream",
     "text": [
      "----------------------------------------------------\n",
      "Epoch No 7\n",
      "The Training loss of the epoch,  0.5429674145476572\n",
      "The Training AUC of the epoch,  0.80164\n",
      "The validation loss of the epoch,  0.5554484002891629\n",
      "The validation AUC of the epoch, 0.79340\n",
      "----------------------------------------------------\n"
     ]
    },
    {
     "name": "stderr",
     "output_type": "stream",
     "text": [
      "100%|██████████████████████████████████████████████████████████████████████████████████████████████████████████████████████████████████████████████████████████████████████████| 1740/1740 [02:43<00:00, 10.62it/s]\n",
      "100%|████████████████████████████████████████████████████████████████████████████████████████████████████████████████████████████████████████████████████████████████████████████| 435/435 [00:10<00:00, 39.76it/s]\n"
     ]
    },
    {
     "name": "stdout",
     "output_type": "stream",
     "text": [
      "----------------------------------------------------\n",
      "Epoch No 8\n",
      "The Training loss of the epoch,  0.5392560538375515\n",
      "The Training AUC of the epoch,  0.80479\n",
      "The validation loss of the epoch,  0.5569686019557646\n",
      "The validation AUC of the epoch, 0.79000\n",
      "----------------------------------------------------\n"
     ]
    },
    {
     "name": "stderr",
     "output_type": "stream",
     "text": [
      "100%|██████████████████████████████████████████████████████████████████████████████████████████████████████████████████████████████████████████████████████████████████████████| 1740/1740 [02:47<00:00, 10.41it/s]\n",
      "100%|████████████████████████████████████████████████████████████████████████████████████████████████████████████████████████████████████████████████████████████████████████████| 435/435 [00:11<00:00, 38.69it/s]\n"
     ]
    },
    {
     "name": "stdout",
     "output_type": "stream",
     "text": [
      "----------------------------------------------------\n",
      "Epoch No 9\n",
      "The Training loss of the epoch,  0.5360382228747181\n",
      "The Training AUC of the epoch,  0.80766\n",
      "The validation loss of the epoch,  0.5810101575549992\n",
      "The validation AUC of the epoch, 0.78276\n",
      "----------------------------------------------------\n"
     ]
    },
    {
     "name": "stderr",
     "output_type": "stream",
     "text": [
      "100%|██████████████████████████████████████████████████████████████████████████████████████████████████████████████████████████████████████████████████████████████████████████| 1740/1740 [02:55<00:00,  9.93it/s]\n",
      "100%|████████████████████████████████████████████████████████████████████████████████████████████████████████████████████████████████████████████████████████████████████████████| 435/435 [00:11<00:00, 39.21it/s]\n"
     ]
    },
    {
     "name": "stdout",
     "output_type": "stream",
     "text": [
      "----------------------------------------------------\n",
      "Epoch No 10\n",
      "The Training loss of the epoch,  0.5319760656391067\n",
      "The Training AUC of the epoch,  0.81120\n",
      "The validation loss of the epoch,  0.5975923080553953\n",
      "The validation AUC of the epoch, 0.79080\n",
      "----------------------------------------------------\n"
     ]
    },
    {
     "name": "stderr",
     "output_type": "stream",
     "text": [
      "100%|██████████████████████████████████████████████████████████████████████████████████████████████████████████████████████████████████████████████████████████████████████████| 1740/1740 [02:51<00:00, 10.17it/s]\n",
      "100%|████████████████████████████████████████████████████████████████████████████████████████████████████████████████████████████████████████████████████████████████████████████| 435/435 [00:11<00:00, 39.27it/s]\n"
     ]
    },
    {
     "name": "stdout",
     "output_type": "stream",
     "text": [
      "----------------------------------------------------\n",
      "Epoch No 11\n",
      "The Training loss of the epoch,  0.5275873243123635\n",
      "The Training AUC of the epoch,  0.81492\n",
      "The validation loss of the epoch,  0.5660301159853223\n",
      "The validation AUC of the epoch, 0.78335\n",
      "----------------------------------------------------\n",
      "Epoch 00012: reducing learning rate of group 0 to 5.0000e-04.\n"
     ]
    },
    {
     "name": "stderr",
     "output_type": "stream",
     "text": [
      "100%|██████████████████████████████████████████████████████████████████████████████████████████████████████████████████████████████████████████████████████████████████████████| 1740/1740 [02:49<00:00, 10.25it/s]\n",
      "100%|████████████████████████████████████████████████████████████████████████████████████████████████████████████████████████████████████████████████████████████████████████████| 435/435 [00:10<00:00, 39.59it/s]\n"
     ]
    },
    {
     "name": "stdout",
     "output_type": "stream",
     "text": [
      "----------------------------------------------------\n",
      "Epoch No 12\n",
      "The Training loss of the epoch,  0.510906674738588\n",
      "The Training AUC of the epoch,  0.82855\n",
      "The validation loss of the epoch,  0.5669608209324979\n",
      "The validation AUC of the epoch, 0.78546\n",
      "----------------------------------------------------\n"
     ]
    },
    {
     "name": "stderr",
     "output_type": "stream",
     "text": [
      "100%|██████████████████████████████████████████████████████████████████████████████████████████████████████████████████████████████████████████████████████████████████████████| 1740/1740 [02:54<00:00,  9.95it/s]\n",
      "100%|████████████████████████████████████████████████████████████████████████████████████████████████████████████████████████████████████████████████████████████████████████████| 435/435 [00:11<00:00, 38.49it/s]\n"
     ]
    },
    {
     "name": "stdout",
     "output_type": "stream",
     "text": [
      "----------------------------------------------------\n",
      "Epoch No 13\n",
      "The Training loss of the epoch,  0.5001238369051068\n",
      "The Training AUC of the epoch,  0.83686\n",
      "The validation loss of the epoch,  0.5727142813561976\n",
      "The validation AUC of the epoch, 0.78119\n",
      "----------------------------------------------------\n"
     ]
    },
    {
     "name": "stderr",
     "output_type": "stream",
     "text": [
      "100%|██████████████████████████████████████████████████████████████████████████████████████████████████████████████████████████████████████████████████████████████████████████| 1740/1740 [02:54<00:00,  9.95it/s]\n",
      "100%|████████████████████████████████████████████████████████████████████████████████████████████████████████████████████████████████████████████████████████████████████████████| 435/435 [00:11<00:00, 39.44it/s]\n"
     ]
    },
    {
     "name": "stdout",
     "output_type": "stream",
     "text": [
      "----------------------------------------------------\n",
      "Epoch No 14\n",
      "The Training loss of the epoch,  0.48924607733885445\n",
      "The Training AUC of the epoch,  0.84485\n",
      "The validation loss of the epoch,  0.5798277437686921\n",
      "The validation AUC of the epoch, 0.77847\n",
      "----------------------------------------------------\n"
     ]
    },
    {
     "name": "stderr",
     "output_type": "stream",
     "text": [
      "100%|██████████████████████████████████████████████████████████████████████████████████████████████████████████████████████████████████████████████████████████████████████████| 1740/1740 [02:51<00:00, 10.17it/s]\n",
      "100%|████████████████████████████████████████████████████████████████████████████████████████████████████████████████████████████████████████████████████████████████████████████| 435/435 [00:11<00:00, 38.23it/s]\n"
     ]
    },
    {
     "name": "stdout",
     "output_type": "stream",
     "text": [
      "----------------------------------------------------\n",
      "Epoch No 15\n",
      "The Training loss of the epoch,  0.47739367130501514\n",
      "The Training AUC of the epoch,  0.85323\n",
      "The validation loss of the epoch,  0.6001292234864728\n",
      "The validation AUC of the epoch, 0.77012\n",
      "----------------------------------------------------\n",
      "Epoch 00016: reducing learning rate of group 0 to 2.5000e-04.\n"
     ]
    },
    {
     "name": "stderr",
     "output_type": "stream",
     "text": [
      "100%|██████████████████████████████████████████████████████████████████████████████████████████████████████████████████████████████████████████████████████████████████████████| 1740/1740 [02:46<00:00, 10.42it/s]\n",
      "100%|████████████████████████████████████████████████████████████████████████████████████████████████████████████████████████████████████████████████████████████████████████████| 435/435 [00:10<00:00, 40.23it/s]\n"
     ]
    },
    {
     "name": "stdout",
     "output_type": "stream",
     "text": [
      "----------------------------------------------------\n",
      "Epoch No 16\n",
      "The Training loss of the epoch,  0.44875812912466884\n",
      "The Training AUC of the epoch,  0.87217\n",
      "The validation loss of the epoch,  0.6366522247078775\n",
      "The validation AUC of the epoch, 0.75438\n",
      "----------------------------------------------------\n"
     ]
    },
    {
     "name": "stderr",
     "output_type": "stream",
     "text": [
      "100%|██████████████████████████████████████████████████████████████████████████████████████████████████████████████████████████████████████████████████████████████████████████| 1740/1740 [02:50<00:00, 10.21it/s]\n",
      "100%|████████████████████████████████████████████████████████████████████████████████████████████████████████████████████████████████████████████████████████████████████████████| 435/435 [00:11<00:00, 39.51it/s]\n"
     ]
    },
    {
     "name": "stdout",
     "output_type": "stream",
     "text": [
      "----------------------------------------------------\n",
      "Epoch No 17\n",
      "The Training loss of the epoch,  0.43230862352868604\n",
      "The Training AUC of the epoch,  0.88210\n",
      "The validation loss of the epoch,  0.6447186594036803\n",
      "The validation AUC of the epoch, 0.75464\n",
      "----------------------------------------------------\n"
     ]
    },
    {
     "name": "stderr",
     "output_type": "stream",
     "text": [
      "100%|██████████████████████████████████████████████████████████████████████████████████████████████████████████████████████████████████████████████████████████████████████████| 1740/1740 [02:50<00:00, 10.23it/s]\n",
      "100%|████████████████████████████████████████████████████████████████████████████████████████████████████████████████████████████████████████████████████████████████████████████| 435/435 [00:11<00:00, 39.23it/s]\n"
     ]
    },
    {
     "name": "stdout",
     "output_type": "stream",
     "text": [
      "----------------------------------------------------\n",
      "Epoch No 18\n",
      "The Training loss of the epoch,  0.41756696580299013\n",
      "The Training AUC of the epoch,  0.89056\n",
      "The validation loss of the epoch,  0.6907490598744359\n",
      "The validation AUC of the epoch, 0.74824\n",
      "----------------------------------------------------\n"
     ]
    },
    {
     "name": "stderr",
     "output_type": "stream",
     "text": [
      "100%|██████████████████████████████████████████████████████████████████████████████████████████████████████████████████████████████████████████████████████████████████████████| 1740/1740 [02:46<00:00, 10.42it/s]\n",
      "100%|████████████████████████████████████████████████████████████████████████████████████████████████████████████████████████████████████████████████████████████████████████████| 435/435 [00:11<00:00, 39.54it/s]\n"
     ]
    },
    {
     "name": "stdout",
     "output_type": "stream",
     "text": [
      "----------------------------------------------------\n",
      "Epoch No 19\n",
      "The Training loss of the epoch,  0.4025824856484073\n",
      "The Training AUC of the epoch,  0.89879\n",
      "The validation loss of the epoch,  0.6912828289229295\n",
      "The validation AUC of the epoch, 0.74550\n",
      "----------------------------------------------------\n",
      "Epoch 00020: reducing learning rate of group 0 to 1.2500e-04.\n"
     ]
    },
    {
     "name": "stderr",
     "output_type": "stream",
     "text": [
      "100%|██████████████████████████████████████████████████████████████████████████████████████████████████████████████████████████████████████████████████████████████████████████| 1740/1740 [02:48<00:00, 10.34it/s]\n",
      "100%|████████████████████████████████████████████████████████████████████████████████████████████████████████████████████████████████████████████████████████████████████████████| 435/435 [00:11<00:00, 39.34it/s]\n"
     ]
    },
    {
     "name": "stdout",
     "output_type": "stream",
     "text": [
      "----------------------------------------------------\n",
      "Epoch No 20\n",
      "The Training loss of the epoch,  0.3722658249924238\n",
      "The Training AUC of the epoch,  0.91426\n",
      "The validation loss of the epoch,  0.7176449526315448\n",
      "The validation AUC of the epoch, 0.73961\n",
      "----------------------------------------------------\n"
     ]
    },
    {
     "name": "stderr",
     "output_type": "stream",
     "text": [
      "100%|██████████████████████████████████████████████████████████████████████████████████████████████████████████████████████████████████████████████████████████████████████████| 1740/1740 [02:47<00:00, 10.38it/s]\n",
      "100%|████████████████████████████████████████████████████████████████████████████████████████████████████████████████████████████████████████████████████████████████████████████| 435/435 [00:11<00:00, 38.88it/s]\n"
     ]
    },
    {
     "name": "stdout",
     "output_type": "stream",
     "text": [
      "----------------------------------------------------\n",
      "Epoch No 21\n",
      "The Training loss of the epoch,  0.35855552168755694\n",
      "The Training AUC of the epoch,  0.92063\n",
      "The validation loss of the epoch,  0.7545471403790617\n",
      "The validation AUC of the epoch, 0.73303\n",
      "----------------------------------------------------\n"
     ]
    },
    {
     "name": "stderr",
     "output_type": "stream",
     "text": [
      "100%|██████████████████████████████████████████████████████████████████████████████████████████████████████████████████████████████████████████████████████████████████████████| 1740/1740 [02:47<00:00, 10.38it/s]\n",
      "100%|████████████████████████████████████████████████████████████████████████████████████████████████████████████████████████████████████████████████████████████████████████████| 435/435 [00:10<00:00, 39.60it/s]\n"
     ]
    },
    {
     "name": "stdout",
     "output_type": "stream",
     "text": [
      "----------------------------------------------------\n",
      "Epoch No 22\n",
      "The Training loss of the epoch,  0.34596560616260286\n",
      "The Training AUC of the epoch,  0.92628\n",
      "The validation loss of the epoch,  0.7860510888455928\n",
      "The validation AUC of the epoch, 0.73092\n",
      "----------------------------------------------------\n"
     ]
    },
    {
     "name": "stderr",
     "output_type": "stream",
     "text": [
      "100%|██████████████████████████████████████████████████████████████████████████████████████████████████████████████████████████████████████████████████████████████████████████| 1740/1740 [02:47<00:00, 10.37it/s]\n",
      "100%|████████████████████████████████████████████████████████████████████████████████████████████████████████████████████████████████████████████████████████████████████████████| 435/435 [00:10<00:00, 39.79it/s]\n"
     ]
    },
    {
     "name": "stdout",
     "output_type": "stream",
     "text": [
      "----------------------------------------------------\n",
      "Epoch No 23\n",
      "The Training loss of the epoch,  0.33253461119087263\n",
      "The Training AUC of the epoch,  0.93203\n",
      "The validation loss of the epoch,  0.8011545179219082\n",
      "The validation AUC of the epoch, 0.72972\n",
      "----------------------------------------------------\n",
      "Epoch 00024: reducing learning rate of group 0 to 6.2500e-05.\n"
     ]
    },
    {
     "name": "stderr",
     "output_type": "stream",
     "text": [
      "100%|██████████████████████████████████████████████████████████████████████████████████████████████████████████████████████████████████████████████████████████████████████████| 1740/1740 [02:39<00:00, 10.88it/s]\n",
      "100%|████████████████████████████████████████████████████████████████████████████████████████████████████████████████████████████████████████████████████████████████████████████| 435/435 [00:10<00:00, 39.78it/s]\n"
     ]
    },
    {
     "name": "stdout",
     "output_type": "stream",
     "text": [
      "----------------------------------------------------\n",
      "Epoch No 24\n",
      "The Training loss of the epoch,  0.3112947763125787\n",
      "The Training AUC of the epoch,  0.94080\n",
      "The validation loss of the epoch,  0.8420253047997924\n",
      "The validation AUC of the epoch, 0.72240\n",
      "----------------------------------------------------\n"
     ]
    },
    {
     "name": "stderr",
     "output_type": "stream",
     "text": [
      "100%|██████████████████████████████████████████████████████████████████████████████████████████████████████████████████████████████████████████████████████████████████████████| 1740/1740 [02:41<00:00, 10.80it/s]\n",
      "100%|████████████████████████████████████████████████████████████████████████████████████████████████████████████████████████████████████████████████████████████████████████████| 435/435 [00:10<00:00, 40.41it/s]\n"
     ]
    },
    {
     "name": "stdout",
     "output_type": "stream",
     "text": [
      "----------------------------------------------------\n",
      "Epoch No 25\n",
      "The Training loss of the epoch,  0.30323214916747876\n",
      "The Training AUC of the epoch,  0.94380\n",
      "The validation loss of the epoch,  0.8747473992150405\n",
      "The validation AUC of the epoch, 0.72544\n",
      "----------------------------------------------------\n"
     ]
    },
    {
     "name": "stderr",
     "output_type": "stream",
     "text": [
      "100%|██████████████████████████████████████████████████████████████████████████████████████████████████████████████████████████████████████████████████████████████████████████| 1740/1740 [02:49<00:00, 10.24it/s]\n",
      "100%|████████████████████████████████████████████████████████████████████████████████████████████████████████████████████████████████████████████████████████████████████████████| 435/435 [00:11<00:00, 38.35it/s]\n"
     ]
    },
    {
     "name": "stdout",
     "output_type": "stream",
     "text": [
      "----------------------------------------------------\n",
      "Epoch No 26\n",
      "The Training loss of the epoch,  0.29532781340096187\n",
      "The Training AUC of the epoch,  0.94673\n",
      "The validation loss of the epoch,  0.8974044144838705\n",
      "The validation AUC of the epoch, 0.72102\n",
      "----------------------------------------------------\n"
     ]
    },
    {
     "name": "stderr",
     "output_type": "stream",
     "text": [
      "100%|██████████████████████████████████████████████████████████████████████████████████████████████████████████████████████████████████████████████████████████████████████████| 1740/1740 [02:53<00:00, 10.04it/s]\n",
      "100%|████████████████████████████████████████████████████████████████████████████████████████████████████████████████████████████████████████████████████████████████████████████| 435/435 [00:11<00:00, 38.63it/s]\n"
     ]
    },
    {
     "name": "stdout",
     "output_type": "stream",
     "text": [
      "----------------------------------------------------\n",
      "Epoch No 27\n",
      "The Training loss of the epoch,  0.28667236689863534\n",
      "The Training AUC of the epoch,  0.94980\n",
      "The validation loss of the epoch,  0.9270135898699705\n",
      "The validation AUC of the epoch, 0.72072\n",
      "----------------------------------------------------\n",
      "Epoch 00028: reducing learning rate of group 0 to 3.1250e-05.\n"
     ]
    },
    {
     "name": "stderr",
     "output_type": "stream",
     "text": [
      "100%|██████████████████████████████████████████████████████████████████████████████████████████████████████████████████████████████████████████████████████████████████████████| 1740/1740 [02:51<00:00, 10.16it/s]\n",
      "100%|████████████████████████████████████████████████████████████████████████████████████████████████████████████████████████████████████████████████████████████████████████████| 435/435 [00:11<00:00, 38.62it/s]\n"
     ]
    },
    {
     "name": "stdout",
     "output_type": "stream",
     "text": [
      "----------------------------------------------------\n",
      "Epoch No 28\n",
      "The Training loss of the epoch,  0.2737032301124485\n",
      "The Training AUC of the epoch,  0.95446\n",
      "The validation loss of the epoch,  0.9472268622497032\n",
      "The validation AUC of the epoch, 0.71266\n",
      "----------------------------------------------------\n"
     ]
    },
    {
     "name": "stderr",
     "output_type": "stream",
     "text": [
      "100%|██████████████████████████████████████████████████████████████████████████████████████████████████████████████████████████████████████████████████████████████████████████| 1740/1740 [02:47<00:00, 10.40it/s]\n",
      "100%|████████████████████████████████████████████████████████████████████████████████████████████████████████████████████████████████████████████████████████████████████████████| 435/435 [00:10<00:00, 39.73it/s]\n"
     ]
    },
    {
     "name": "stdout",
     "output_type": "stream",
     "text": [
      "----------------------------------------------------\n",
      "Epoch No 29\n",
      "The Training loss of the epoch,  0.2690140381369783\n",
      "The Training AUC of the epoch,  0.95598\n",
      "The validation loss of the epoch,  0.9625289753250692\n",
      "The validation AUC of the epoch, 0.71556\n",
      "----------------------------------------------------\n"
     ]
    },
    {
     "name": "stderr",
     "output_type": "stream",
     "text": [
      "100%|██████████████████████████████████████████████████████████████████████████████████████████████████████████████████████████████████████████████████████████████████████████| 1740/1740 [02:43<00:00, 10.62it/s]\n",
      "100%|████████████████████████████████████████████████████████████████████████████████████████████████████████████████████████████████████████████████████████████████████████████| 435/435 [00:10<00:00, 39.88it/s]\n"
     ]
    },
    {
     "name": "stdout",
     "output_type": "stream",
     "text": [
      "----------------------------------------------------\n",
      "Epoch No 30\n",
      "The Training loss of the epoch,  0.2633388767853893\n",
      "The Training AUC of the epoch,  0.95780\n",
      "The validation loss of the epoch,  0.9710770457640462\n",
      "The validation AUC of the epoch, 0.71245\n",
      "----------------------------------------------------\n"
     ]
    },
    {
     "name": "stderr",
     "output_type": "stream",
     "text": [
      "100%|██████████████████████████████████████████████████████████████████████████████████████████████████████████████████████████████████████████████████████████████████████████| 1740/1740 [02:43<00:00, 10.63it/s]\n",
      "100%|████████████████████████████████████████████████████████████████████████████████████████████████████████████████████████████████████████████████████████████████████████████| 435/435 [00:10<00:00, 40.23it/s]\n"
     ]
    },
    {
     "name": "stdout",
     "output_type": "stream",
     "text": [
      "----------------------------------------------------\n",
      "Epoch No 31\n",
      "The Training loss of the epoch,  0.2590844379074272\n",
      "The Training AUC of the epoch,  0.95917\n",
      "The validation loss of the epoch,  0.9784060010964843\n",
      "The validation AUC of the epoch, 0.71188\n",
      "----------------------------------------------------\n",
      "Epoch 00032: reducing learning rate of group 0 to 1.5625e-05.\n"
     ]
    },
    {
     "name": "stderr",
     "output_type": "stream",
     "text": [
      "100%|██████████████████████████████████████████████████████████████████████████████████████████████████████████████████████████████████████████████████████████████████████████| 1740/1740 [02:41<00:00, 10.78it/s]\n",
      "100%|████████████████████████████████████████████████████████████████████████████████████████████████████████████████████████████████████████████████████████████████████████████| 435/435 [00:10<00:00, 39.88it/s]\n"
     ]
    },
    {
     "name": "stdout",
     "output_type": "stream",
     "text": [
      "----------------------------------------------------\n",
      "Epoch No 32\n",
      "The Training loss of the epoch,  0.251653267824273\n",
      "The Training AUC of the epoch,  0.96160\n",
      "The validation loss of the epoch,  1.0012598684464378\n",
      "The validation AUC of the epoch, 0.71222\n",
      "----------------------------------------------------\n"
     ]
    },
    {
     "name": "stderr",
     "output_type": "stream",
     "text": [
      "100%|██████████████████████████████████████████████████████████████████████████████████████████████████████████████████████████████████████████████████████████████████████████| 1740/1740 [02:40<00:00, 10.86it/s]\n",
      "100%|████████████████████████████████████████████████████████████████████████████████████████████████████████████████████████████████████████████████████████████████████████████| 435/435 [00:10<00:00, 40.16it/s]\n"
     ]
    },
    {
     "name": "stdout",
     "output_type": "stream",
     "text": [
      "----------------------------------------------------\n",
      "Epoch No 33\n",
      "The Training loss of the epoch,  0.24911996729928873\n",
      "The Training AUC of the epoch,  0.96230\n",
      "The validation loss of the epoch,  0.9967192623807096\n",
      "The validation AUC of the epoch, 0.70931\n",
      "----------------------------------------------------\n"
     ]
    },
    {
     "name": "stderr",
     "output_type": "stream",
     "text": [
      "100%|██████████████████████████████████████████████████████████████████████████████████████████████████████████████████████████████████████████████████████████████████████████| 1740/1740 [02:41<00:00, 10.74it/s]\n",
      "100%|████████████████████████████████████████████████████████████████████████████████████████████████████████████████████████████████████████████████████████████████████████████| 435/435 [00:10<00:00, 40.66it/s]\n"
     ]
    },
    {
     "name": "stdout",
     "output_type": "stream",
     "text": [
      "----------------------------------------------------\n",
      "Epoch No 34\n",
      "The Training loss of the epoch,  0.24641264006067282\n",
      "The Training AUC of the epoch,  0.96316\n",
      "The validation loss of the epoch,  1.0144638372563768\n",
      "The validation AUC of the epoch, 0.71061\n",
      "----------------------------------------------------\n"
     ]
    },
    {
     "name": "stderr",
     "output_type": "stream",
     "text": [
      "100%|██████████████████████████████████████████████████████████████████████████████████████████████████████████████████████████████████████████████████████████████████████████| 1740/1740 [02:42<00:00, 10.68it/s]\n",
      "100%|████████████████████████████████████████████████████████████████████████████████████████████████████████████████████████████████████████████████████████████████████████████| 435/435 [00:10<00:00, 40.41it/s]\n"
     ]
    },
    {
     "name": "stdout",
     "output_type": "stream",
     "text": [
      "----------------------------------------------------\n",
      "Epoch No 35\n",
      "The Training loss of the epoch,  0.24478561786998962\n",
      "The Training AUC of the epoch,  0.96360\n",
      "The validation loss of the epoch,  1.0218874161955953\n",
      "The validation AUC of the epoch, 0.71017\n",
      "----------------------------------------------------\n",
      "Epoch 00036: reducing learning rate of group 0 to 7.8125e-06.\n"
     ]
    },
    {
     "name": "stderr",
     "output_type": "stream",
     "text": [
      "100%|██████████████████████████████████████████████████████████████████████████████████████████████████████████████████████████████████████████████████████████████████████████| 1740/1740 [02:43<00:00, 10.66it/s]\n",
      "100%|████████████████████████████████████████████████████████████████████████████████████████████████████████████████████████████████████████████████████████████████████████████| 435/435 [00:10<00:00, 39.87it/s]\n"
     ]
    },
    {
     "name": "stdout",
     "output_type": "stream",
     "text": [
      "----------------------------------------------------\n",
      "Epoch No 36\n",
      "The Training loss of the epoch,  0.24018738996451613\n",
      "The Training AUC of the epoch,  0.96507\n",
      "The validation loss of the epoch,  1.0265463789304097\n",
      "The validation AUC of the epoch, 0.70772\n",
      "----------------------------------------------------\n"
     ]
    },
    {
     "name": "stderr",
     "output_type": "stream",
     "text": [
      "100%|██████████████████████████████████████████████████████████████████████████████████████████████████████████████████████████████████████████████████████████████████████████| 1740/1740 [02:42<00:00, 10.69it/s]\n",
      "100%|████████████████████████████████████████████████████████████████████████████████████████████████████████████████████████████████████████████████████████████████████████████| 435/435 [00:11<00:00, 39.43it/s]\n"
     ]
    },
    {
     "name": "stdout",
     "output_type": "stream",
     "text": [
      "----------------------------------------------------\n",
      "Epoch No 37\n",
      "The Training loss of the epoch,  0.23929379387148494\n",
      "The Training AUC of the epoch,  0.96530\n",
      "The validation loss of the epoch,  1.0334234946760639\n",
      "The validation AUC of the epoch, 0.70790\n",
      "----------------------------------------------------\n"
     ]
    },
    {
     "name": "stderr",
     "output_type": "stream",
     "text": [
      "100%|██████████████████████████████████████████████████████████████████████████████████████████████████████████████████████████████████████████████████████████████████████████| 1740/1740 [02:42<00:00, 10.72it/s]\n",
      "100%|████████████████████████████████████████████████████████████████████████████████████████████████████████████████████████████████████████████████████████████████████████████| 435/435 [00:10<00:00, 40.01it/s]\n"
     ]
    },
    {
     "name": "stdout",
     "output_type": "stream",
     "text": [
      "----------------------------------------------------\n",
      "Epoch No 38\n",
      "The Training loss of the epoch,  0.23692322653429262\n",
      "The Training AUC of the epoch,  0.96596\n",
      "The validation loss of the epoch,  1.0432222300562366\n",
      "The validation AUC of the epoch, 0.70685\n",
      "----------------------------------------------------\n"
     ]
    },
    {
     "name": "stderr",
     "output_type": "stream",
     "text": [
      "100%|██████████████████████████████████████████████████████████████████████████████████████████████████████████████████████████████████████████████████████████████████████████| 1740/1740 [02:41<00:00, 10.76it/s]\n",
      "100%|████████████████████████████████████████████████████████████████████████████████████████████████████████████████████████████████████████████████████████████████████████████| 435/435 [00:10<00:00, 40.39it/s]\n"
     ]
    },
    {
     "name": "stdout",
     "output_type": "stream",
     "text": [
      "----------------------------------------------------\n",
      "Epoch No 39\n",
      "The Training loss of the epoch,  0.23669569994183792\n",
      "The Training AUC of the epoch,  0.96604\n",
      "The validation loss of the epoch,  1.0401324873683095\n",
      "The validation AUC of the epoch, 0.70885\n",
      "----------------------------------------------------\n",
      "Epoch 00040: reducing learning rate of group 0 to 3.9063e-06.\n"
     ]
    },
    {
     "data": {
      "text/html": [
       "Waiting for W&B process to finish... <strong style=\"color:green\">(success).</strong>"
      ],
      "text/plain": [
       "<IPython.core.display.HTML object>"
      ]
     },
     "metadata": {},
     "output_type": "display_data"
    },
    {
     "data": {
      "text/html": [
       "<style>\n",
       "    table.wandb td:nth-child(1) { padding: 0 10px; text-align: left ; width: auto;} td:nth-child(2) {text-align: left ; width: 100%}\n",
       "    .wandb-row { display: flex; flex-direction: row; flex-wrap: wrap; justify-content: flex-start; width: 100% }\n",
       "    .wandb-col { display: flex; flex-direction: column; flex-basis: 100%; flex: 1; padding: 10px; }\n",
       "    </style>\n",
       "<div class=\"wandb-row\"><div class=\"wandb-col\"><h3>Run history:</h3><br/><table class=\"wandb\"><tr><td>Epoch</td><td>▁▁▁▂▂▂▂▂▂▃▃▃▃▃▄▄▄▄▄▄▅▅▅▅▅▅▆▆▆▆▆▇▇▇▇▇▇███</td></tr><tr><td>Lr</td><td>███████████▄▄▄▄▃▃▃▃▂▂▂▂▁▁▁▁▁▁▁▁▁▁▁▁▁▁▁▁▁</td></tr><tr><td>Train_auc_epoch</td><td>▁▁▂▂▂▂▂▂▂▂▂▃▃▃▄▄▅▅▅▆▆▆▇▇▇▇▇▇████████████</td></tr><tr><td>Train_loss_epoch</td><td>████▇▇▇▇▇▇▇▇▇▆▆▆▅▅▅▄▄▄▃▃▃▂▂▂▂▂▂▁▁▁▁▁▁▁▁▁</td></tr><tr><td>Val_auc_epoch</td><td>▆▇███████▇█▇▇▇▇▆▅▅▄▄▄▃▃▃▂▃▂▂▁▂▁▁▁▁▁▁▁▁▁▁</td></tr><tr><td>Val_loss_epoch</td><td>▂▁▁▁▁▂▁▁▁▁▂▁▁▁▁▂▂▂▃▃▃▄▄▅▅▆▆▆▇▇▇▇▇▇██████</td></tr><tr><td>loss</td><td>▆█▇█▇▅▇▇▇▆▇▆▆▅▅▅▅▅▆▅▃▄▃▃▄▄▂▂▂▂▂▁▂▂▂▂▃▁▂▁</td></tr><tr><td>val_loss</td><td>▂▂▂▁▂▃▂▂▃▁▁▂▃▂▂▃▃▃▂▃▄▄▅▅▄▄▄█▇▇▅▆▃▆▅▆▇▇▆▆</td></tr></table><br/></div><div class=\"wandb-col\"><h3>Run summary:</h3><br/><table class=\"wandb\"><tr><td>Epoch</td><td>39</td></tr><tr><td>Lr</td><td>0.0</td></tr><tr><td>Train_auc_epoch</td><td>0.96604</td></tr><tr><td>Train_loss_epoch</td><td>0.2367</td></tr><tr><td>Val_auc_epoch</td><td>0.70885</td></tr><tr><td>Val_loss_epoch</td><td>1.04013</td></tr><tr><td>loss</td><td>0.15762</td></tr><tr><td>val_loss</td><td>1.08646</td></tr></table><br/></div></div>"
      ],
      "text/plain": [
       "<IPython.core.display.HTML object>"
      ]
     },
     "metadata": {},
     "output_type": "display_data"
    },
    {
     "data": {
      "text/html": [
       " View run <strong style=\"color:#cdcd00\">C4_lite</strong> at: <a href='https://wandb.ai/dc250601/Equivariant/runs/hqauau5y' target=\"_blank\">https://wandb.ai/dc250601/Equivariant/runs/hqauau5y</a><br/>Synced 5 W&B file(s), 0 media file(s), 0 artifact file(s) and 1 other file(s)"
      ],
      "text/plain": [
       "<IPython.core.display.HTML object>"
      ]
     },
     "metadata": {},
     "output_type": "display_data"
    },
    {
     "data": {
      "text/html": [
       "Find logs at: <code>./wandb/run-20230402_220148-hqauau5y/logs</code>"
      ],
      "text/plain": [
       "<IPython.core.display.HTML object>"
      ]
     },
     "metadata": {},
     "output_type": "display_data"
    }
   ],
   "source": [
    "trainer()"
   ]
  }
 ],
 "metadata": {
  "kernelspec": {
   "display_name": "work",
   "language": "python",
   "name": "work"
  },
  "language_info": {
   "codemirror_mode": {
    "name": "ipython",
    "version": 3
   },
   "file_extension": ".py",
   "mimetype": "text/x-python",
   "name": "python",
   "nbconvert_exporter": "python",
   "pygments_lexer": "ipython3",
   "version": "3.8.10"
  }
 },
 "nbformat": 4,
 "nbformat_minor": 4
}
