{
 "cells": [
  {
   "cell_type": "code",
   "execution_count": 1,
   "metadata": {},
   "outputs": [
    {
     "name": "stderr",
     "output_type": "stream",
     "text": [
      "/home/diptarko/work/lib/python3.8/site-packages/tqdm/auto.py:22: TqdmWarning: IProgress not found. Please update jupyter and ipywidgets. See https://ipywidgets.readthedocs.io/en/stable/user_install.html\n",
      "  from .autonotebook import tqdm as notebook_tqdm\n"
     ]
    }
   ],
   "source": [
    "import numpy as np\n",
    "import torch\n",
    "import matplotlib.pyplot as plt\n",
    "import model_noneq as neq_model"
   ]
  },
  {
   "cell_type": "code",
   "execution_count": 2,
   "metadata": {},
   "outputs": [],
   "source": [
    "import numpy as np\n",
    "import torch.nn as nn\n",
    "import torch\n",
    "from torchvision import datasets, models, transforms\n",
    "\n",
    "from tqdm.auto import tqdm\n",
    "import matplotlib.pyplot as plt\n",
    "import numpy as np\n",
    "from torchvision.utils import make_grid\n",
    "from torch.utils.data import DataLoader\n",
    "import matplotlib.pyplot as plt\n",
    "from sklearn.metrics import accuracy_score\n",
    "from sklearn.metrics import roc_curve\n",
    "from sklearn import metrics\n",
    "import gc\n",
    "\n",
    "import torch\n",
    "import torch.nn as nn\n",
    "\n",
    "from einops import rearrange\n",
    "from einops.layers.torch import Rearrange\n",
    "\n",
    "\n",
    "    \n",
    "def metric(y_true, y_pred):\n",
    "    fpr, tpr, thresholds = roc_curve(y_true, y_pred)\n",
    "    auc = metrics.auc(fpr, tpr)\n",
    "    return auc\n",
    "\n",
    "def straightner(a):\n",
    "    A = np.zeros((a[0].shape[0]*len(a)))\n",
    "    start_index = 0\n",
    "    end_index = 0\n",
    "    for i in range(len(a)):\n",
    "        start_index = i*a[0].shape[0]\n",
    "        end_index = start_index+a[0].shape[0]\n",
    "        A[start_index:end_index] = a[i]\n",
    "    return A\n",
    "\n",
    "def predictor(outputs):\n",
    "    return np.argmax(outputs, axis = 1)\n",
    "\n",
    "def trainer():\n",
    "    model = neq_model.model(channels=3)\n",
    "    \n",
    "    train_transform = transforms.Compose([transforms.ToTensor()])\n",
    "    test_transform = transforms.Compose([transforms.ToTensor()])\n",
    "    \n",
    "    \n",
    "    dataset_Train = datasets.ImageFolder('./Data/Train/', transform=train_transform)\n",
    "    dataset_Test = datasets.ImageFolder('./Data/Test/', transform =test_transform)\n",
    "    dataloader_train = torch.utils.data.DataLoader(dataset_Train, batch_size=64, shuffle=True, drop_last = True, num_workers=4, pin_memory = True)\n",
    "    dataloader_test = torch.utils.data.DataLoader(dataset_Test, batch_size=64, shuffle=True, drop_last = True, num_workers=4, pin_memory = True)    \n",
    "    \n",
    "    \n",
    "    optimizer = torch.optim.Adam(model.parameters(), lr = 0.001)\n",
    "    criterion = nn.BCEWithLogitsLoss()\n",
    "    scheduler = torch.optim.lr_scheduler.ReduceLROnPlateau(optimizer, 'max', verbose = True,threshold = 0.0001,patience = 3, factor = 0.5)\n",
    "    \n",
    "    model = model.to(\"cuda:0\")\n",
    "    \n",
    "\n",
    "\n",
    "    import wandb\n",
    "    wandb.login(key=\"cb53927c12bd57a0d943d2dedf7881cfcdcc8f09\")\n",
    "    wandb.init(\n",
    "        project = \"Equivariant\",\n",
    "        name = \"Non-Equivariant_Long\"\n",
    "    )\n",
    "\n",
    "    scaler = torch.cuda.amp.GradScaler()\n",
    "    #--------------------------\n",
    "    wandb.watch(model, log_freq=50)\n",
    "    #---------------------------\n",
    "    w_intr = 50\n",
    "\n",
    "    for epoch in range(100):\n",
    "        train_loss = 0\n",
    "        val_loss = 0\n",
    "        train_steps = 0\n",
    "        test_steps = 0\n",
    "        label_list = []\n",
    "        outputs_list = []\n",
    "        train_auc = 0\n",
    "        test_auc = 0\n",
    "        model.train()\n",
    "        for image, label in tqdm(dataloader_train):\n",
    "            image = image.to(\"cuda:0\")\n",
    "            label = label.to(\"cuda:0\")\n",
    "            with torch.no_grad():\n",
    "                image = nn.functional.pad(image, (2,1,2,1))\n",
    "            #optimizer.zero_grad()\n",
    "            for param in model.parameters():\n",
    "                param.grad = None\n",
    "\n",
    "            with torch.cuda.amp.autocast():\n",
    "              outputs = model(image)\n",
    "              loss = criterion(outputs, label.float())\n",
    "            label_list.append(label.detach().cpu().numpy())\n",
    "            outputs_list.append(outputs.detach().cpu().numpy())\n",
    "            scaler.scale(loss).backward()\n",
    "            scaler.step(optimizer)\n",
    "            scaler.update()\n",
    "            train_loss += loss.item()\n",
    "            train_steps += 1\n",
    "            if train_steps%w_intr == 0:\n",
    "                 wandb.log({\"loss\": loss.item()})\n",
    "        with torch.no_grad():\n",
    "            label_list = straightner(label_list)\n",
    "            outputs_list = straightner(outputs_list)\n",
    "            train_auc = metric(label_list, outputs_list) \n",
    "\n",
    "\n",
    "\n",
    "\n",
    "        #-------------------------------------------------------------------\n",
    "        model.eval()\n",
    "        label_list = []\n",
    "        outputs_list = []\n",
    "        with torch.no_grad():\n",
    "            for image, label in tqdm(dataloader_test):\n",
    "                image = image.to(\"cuda:0\")\n",
    "                label = label.to(\"cuda:0\")\n",
    "                image = nn.functional.pad(image, (2,1,2,1))\n",
    "                outputs = model(image)\n",
    "                loss = criterion(outputs, label.float())\n",
    "                label_list.append(label.detach().cpu().numpy())\n",
    "                outputs_list.append(outputs.detach().cpu().numpy())\n",
    "                val_loss += loss.item()\n",
    "                test_steps +=1\n",
    "                if test_steps%w_intr == 0:\n",
    "                 wandb.log({\"val_loss\": loss.item()})\n",
    "            label_list = straightner(label_list)\n",
    "            outputs_list = straightner(outputs_list)\n",
    "            test_auc = metric(label_list, outputs_list)\n",
    "\n",
    "        train_loss = train_loss/train_steps\n",
    "        val_loss = val_loss/ test_steps\n",
    "        \n",
    "        print(\"----------------------------------------------------\")\n",
    "        print(\"Epoch No\" , epoch)\n",
    "        print(\"The Training loss of the epoch, \",train_loss)\n",
    "        print(\"The Training AUC of the epoch,  %.5f\"%train_auc)\n",
    "        print(\"The validation loss of the epoch, \",val_loss)\n",
    "        print(\"The validation AUC of the epoch, %.5f\"%test_auc)\n",
    "        print(\"----------------------------------------------------\")\n",
    "        PATH = f\"model_Epoch_{epoch}.pt\"\n",
    "#         torch.save({\n",
    "#                 'epoch': epoch,\n",
    "#                 'model_state_dict': model.state_dict(),\n",
    "#                 'optimizer_state_dict': optimizer.state_dict(),\n",
    "#                 'scheduler': scheduler.state_dict()\n",
    "#                 }, PATH)\n",
    "        scheduler.step(test_auc)\n",
    "        curr_lr = scheduler._last_lr[0]\n",
    "        wandb.log({\"Train_auc_epoch\": train_auc,\n",
    "                  \"Epoch\": epoch,\n",
    "                  \"Val_auc_epoch\": test_auc,\n",
    "                  \"Train_loss_epoch\": train_loss,\n",
    "                  \"Val_loss_epoch\": val_loss,\n",
    "                  \"Lr\": curr_lr}\n",
    "                 )\n",
    "        gc.collect()\n",
    "    \n",
    "    wandb.finish()\n"
   ]
  },
  {
   "cell_type": "code",
   "execution_count": null,
   "metadata": {
    "scrolled": false
   },
   "outputs": [
    {
     "name": "stderr",
     "output_type": "stream",
     "text": [
      "\u001b[34m\u001b[1mwandb\u001b[0m: Currently logged in as: \u001b[33mdc250601\u001b[0m. Use \u001b[1m`wandb login --relogin`\u001b[0m to force relogin\n",
      "\u001b[34m\u001b[1mwandb\u001b[0m: \u001b[33mWARNING\u001b[0m If you're specifying your api key in code, ensure this code is not shared publicly.\n",
      "\u001b[34m\u001b[1mwandb\u001b[0m: \u001b[33mWARNING\u001b[0m Consider setting the WANDB_API_KEY environment variable, or running `wandb login` from the command line.\n",
      "\u001b[34m\u001b[1mwandb\u001b[0m: Appending key for api.wandb.ai to your netrc file: /home/diptarko/.netrc\n"
     ]
    },
    {
     "data": {
      "text/html": [
       "wandb version 0.14.0 is available!  To upgrade, please run:\n",
       " $ pip install wandb --upgrade"
      ],
      "text/plain": [
       "<IPython.core.display.HTML object>"
      ]
     },
     "metadata": {},
     "output_type": "display_data"
    },
    {
     "data": {
      "text/html": [
       "Tracking run with wandb version 0.13.10"
      ],
      "text/plain": [
       "<IPython.core.display.HTML object>"
      ]
     },
     "metadata": {},
     "output_type": "display_data"
    },
    {
     "data": {
      "text/html": [
       "Run data is saved locally in <code>/home/diptarko/G23/wandb/run-20230402_155011-bc417kut</code>"
      ],
      "text/plain": [
       "<IPython.core.display.HTML object>"
      ]
     },
     "metadata": {},
     "output_type": "display_data"
    },
    {
     "data": {
      "text/html": [
       "Syncing run <strong><a href='https://wandb.ai/dc250601/Equivariant/runs/bc417kut' target=\"_blank\">Non-Equivariant_Long</a></strong> to <a href='https://wandb.ai/dc250601/Equivariant' target=\"_blank\">Weights & Biases</a> (<a href='https://wandb.me/run' target=\"_blank\">docs</a>)<br/>"
      ],
      "text/plain": [
       "<IPython.core.display.HTML object>"
      ]
     },
     "metadata": {},
     "output_type": "display_data"
    },
    {
     "data": {
      "text/html": [
       " View project at <a href='https://wandb.ai/dc250601/Equivariant' target=\"_blank\">https://wandb.ai/dc250601/Equivariant</a>"
      ],
      "text/plain": [
       "<IPython.core.display.HTML object>"
      ]
     },
     "metadata": {},
     "output_type": "display_data"
    },
    {
     "data": {
      "text/html": [
       " View run at <a href='https://wandb.ai/dc250601/Equivariant/runs/bc417kut' target=\"_blank\">https://wandb.ai/dc250601/Equivariant/runs/bc417kut</a>"
      ],
      "text/plain": [
       "<IPython.core.display.HTML object>"
      ]
     },
     "metadata": {},
     "output_type": "display_data"
    },
    {
     "name": "stderr",
     "output_type": "stream",
     "text": [
      "100%|███████████████████████████████████████████████████████████████████████████████| 1740/1740 [01:09<00:00, 25.10it/s]\n",
      "100%|█████████████████████████████████████████████████████████████████████████████████| 435/435 [00:08<00:00, 49.73it/s]\n"
     ]
    },
    {
     "name": "stdout",
     "output_type": "stream",
     "text": [
      "----------------------------------------------------\n",
      "Epoch No 0\n",
      "The Training loss of the epoch,  0.5847859557503942\n",
      "The Training AUC of the epoch,  0.76119\n",
      "The validation loss of the epoch,  0.6257559707109955\n",
      "The validation AUC of the epoch, 0.77196\n",
      "----------------------------------------------------\n"
     ]
    },
    {
     "name": "stderr",
     "output_type": "stream",
     "text": [
      "100%|███████████████████████████████████████████████████████████████████████████████| 1740/1740 [00:56<00:00, 30.65it/s]\n",
      "100%|█████████████████████████████████████████████████████████████████████████████████| 435/435 [00:13<00:00, 33.12it/s]\n"
     ]
    },
    {
     "name": "stdout",
     "output_type": "stream",
     "text": [
      "----------------------------------------------------\n",
      "Epoch No 1\n",
      "The Training loss of the epoch,  0.5721310440493727\n",
      "The Training AUC of the epoch,  0.77391\n",
      "The validation loss of the epoch,  0.5747203802240306\n",
      "The validation AUC of the epoch, 0.77694\n",
      "----------------------------------------------------\n"
     ]
    },
    {
     "name": "stderr",
     "output_type": "stream",
     "text": [
      "100%|███████████████████████████████████████████████████████████████████████████████| 1740/1740 [00:57<00:00, 30.31it/s]\n",
      "100%|█████████████████████████████████████████████████████████████████████████████████| 435/435 [00:12<00:00, 35.82it/s]\n"
     ]
    },
    {
     "name": "stdout",
     "output_type": "stream",
     "text": [
      "----------------------------------------------------\n",
      "Epoch No 2\n",
      "The Training loss of the epoch,  0.5682441729238663\n",
      "The Training AUC of the epoch,  0.77791\n",
      "The validation loss of the epoch,  0.5876640580166346\n",
      "The validation AUC of the epoch, 0.77862\n",
      "----------------------------------------------------\n"
     ]
    },
    {
     "name": "stderr",
     "output_type": "stream",
     "text": [
      "100%|███████████████████████████████████████████████████████████████████████████████| 1740/1740 [00:58<00:00, 29.98it/s]\n",
      "100%|█████████████████████████████████████████████████████████████████████████████████| 435/435 [00:13<00:00, 33.01it/s]\n"
     ]
    },
    {
     "name": "stdout",
     "output_type": "stream",
     "text": [
      "----------------------------------------------------\n",
      "Epoch No 3\n",
      "The Training loss of the epoch,  0.5646113748180455\n",
      "The Training AUC of the epoch,  0.78115\n",
      "The validation loss of the epoch,  0.5646485826749911\n",
      "The validation AUC of the epoch, 0.78136\n",
      "----------------------------------------------------\n"
     ]
    },
    {
     "name": "stderr",
     "output_type": "stream",
     "text": [
      "100%|███████████████████████████████████████████████████████████████████████████████| 1740/1740 [00:57<00:00, 30.37it/s]\n",
      "100%|█████████████████████████████████████████████████████████████████████████████████| 435/435 [00:16<00:00, 26.56it/s]\n"
     ]
    },
    {
     "name": "stdout",
     "output_type": "stream",
     "text": [
      "----------------------------------------------------\n",
      "Epoch No 4\n",
      "The Training loss of the epoch,  0.5609605172756075\n",
      "The Training AUC of the epoch,  0.78458\n",
      "The validation loss of the epoch,  0.5701192826375194\n",
      "The validation AUC of the epoch, 0.78307\n",
      "----------------------------------------------------\n"
     ]
    },
    {
     "name": "stderr",
     "output_type": "stream",
     "text": [
      "100%|███████████████████████████████████████████████████████████████████████████████| 1740/1740 [00:57<00:00, 30.45it/s]\n",
      "100%|█████████████████████████████████████████████████████████████████████████████████| 435/435 [00:21<00:00, 20.30it/s]\n"
     ]
    },
    {
     "name": "stdout",
     "output_type": "stream",
     "text": [
      "----------------------------------------------------\n",
      "Epoch No 5\n",
      "The Training loss of the epoch,  0.5597133604274399\n",
      "The Training AUC of the epoch,  0.78579\n",
      "The validation loss of the epoch,  0.5673615098684683\n",
      "The validation AUC of the epoch, 0.78408\n",
      "----------------------------------------------------\n"
     ]
    },
    {
     "name": "stderr",
     "output_type": "stream",
     "text": [
      "100%|███████████████████████████████████████████████████████████████████████████████| 1740/1740 [00:56<00:00, 30.96it/s]\n",
      "100%|█████████████████████████████████████████████████████████████████████████████████| 435/435 [00:18<00:00, 23.12it/s]\n"
     ]
    },
    {
     "name": "stdout",
     "output_type": "stream",
     "text": [
      "----------------------------------------------------\n",
      "Epoch No 6\n",
      "The Training loss of the epoch,  0.5567392966528049\n",
      "The Training AUC of the epoch,  0.78876\n",
      "The validation loss of the epoch,  0.5595357820220377\n",
      "The validation AUC of the epoch, 0.78600\n",
      "----------------------------------------------------\n"
     ]
    },
    {
     "name": "stderr",
     "output_type": "stream",
     "text": [
      "100%|███████████████████████████████████████████████████████████████████████████████| 1740/1740 [00:56<00:00, 30.56it/s]\n",
      "100%|█████████████████████████████████████████████████████████████████████████████████| 435/435 [00:09<00:00, 43.64it/s]\n"
     ]
    },
    {
     "name": "stdout",
     "output_type": "stream",
     "text": [
      "----------------------------------------------------\n",
      "Epoch No 7\n",
      "The Training loss of the epoch,  0.5556032242446111\n",
      "The Training AUC of the epoch,  0.78972\n",
      "The validation loss of the epoch,  0.5817613537969261\n",
      "The validation AUC of the epoch, 0.77800\n",
      "----------------------------------------------------\n"
     ]
    },
    {
     "name": "stderr",
     "output_type": "stream",
     "text": [
      "100%|███████████████████████████████████████████████████████████████████████████████| 1740/1740 [00:57<00:00, 30.31it/s]\n",
      "100%|█████████████████████████████████████████████████████████████████████████████████| 435/435 [00:14<00:00, 30.78it/s]\n"
     ]
    },
    {
     "name": "stdout",
     "output_type": "stream",
     "text": [
      "----------------------------------------------------\n",
      "Epoch No 8\n",
      "The Training loss of the epoch,  0.5546928432138487\n",
      "The Training AUC of the epoch,  0.79061\n",
      "The validation loss of the epoch,  0.649102318492429\n",
      "The validation AUC of the epoch, 0.77038\n",
      "----------------------------------------------------\n"
     ]
    },
    {
     "name": "stderr",
     "output_type": "stream",
     "text": [
      "100%|███████████████████████████████████████████████████████████████████████████████| 1740/1740 [00:57<00:00, 30.39it/s]\n",
      "100%|█████████████████████████████████████████████████████████████████████████████████| 435/435 [00:17<00:00, 24.72it/s]\n"
     ]
    },
    {
     "name": "stdout",
     "output_type": "stream",
     "text": [
      "----------------------------------------------------\n",
      "Epoch No 9\n",
      "The Training loss of the epoch,  0.5525844164278315\n",
      "The Training AUC of the epoch,  0.79259\n",
      "The validation loss of the epoch,  0.5600787782120978\n",
      "The validation AUC of the epoch, 0.78902\n",
      "----------------------------------------------------\n"
     ]
    },
    {
     "name": "stderr",
     "output_type": "stream",
     "text": [
      "100%|███████████████████████████████████████████████████████████████████████████████| 1740/1740 [00:57<00:00, 30.41it/s]\n",
      "100%|█████████████████████████████████████████████████████████████████████████████████| 435/435 [00:10<00:00, 40.85it/s]\n"
     ]
    },
    {
     "name": "stdout",
     "output_type": "stream",
     "text": [
      "----------------------------------------------------\n",
      "Epoch No 10\n",
      "The Training loss of the epoch,  0.5512468031768141\n",
      "The Training AUC of the epoch,  0.79379\n",
      "The validation loss of the epoch,  0.5582279908931118\n",
      "The validation AUC of the epoch, 0.78953\n",
      "----------------------------------------------------\n"
     ]
    },
    {
     "name": "stderr",
     "output_type": "stream",
     "text": [
      "100%|███████████████████████████████████████████████████████████████████████████████| 1740/1740 [00:56<00:00, 30.73it/s]\n",
      "100%|█████████████████████████████████████████████████████████████████████████████████| 435/435 [00:11<00:00, 38.33it/s]\n"
     ]
    },
    {
     "name": "stdout",
     "output_type": "stream",
     "text": [
      "----------------------------------------------------\n",
      "Epoch No 11\n",
      "The Training loss of the epoch,  0.5507314020361024\n",
      "The Training AUC of the epoch,  0.79427\n",
      "The validation loss of the epoch,  0.5797983270952072\n",
      "The validation AUC of the epoch, 0.78241\n",
      "----------------------------------------------------\n"
     ]
    },
    {
     "name": "stderr",
     "output_type": "stream",
     "text": [
      "100%|███████████████████████████████████████████████████████████████████████████████| 1740/1740 [00:57<00:00, 30.39it/s]\n",
      "100%|█████████████████████████████████████████████████████████████████████████████████| 435/435 [00:08<00:00, 50.17it/s]\n"
     ]
    },
    {
     "name": "stdout",
     "output_type": "stream",
     "text": [
      "----------------------------------------------------\n",
      "Epoch No 12\n",
      "The Training loss of the epoch,  0.5497061935992077\n",
      "The Training AUC of the epoch,  0.79523\n",
      "The validation loss of the epoch,  0.6576084853588849\n",
      "The validation AUC of the epoch, 0.78239\n",
      "----------------------------------------------------\n"
     ]
    },
    {
     "name": "stderr",
     "output_type": "stream",
     "text": [
      "100%|███████████████████████████████████████████████████████████████████████████████| 1740/1740 [00:57<00:00, 30.51it/s]\n",
      "100%|█████████████████████████████████████████████████████████████████████████████████| 435/435 [00:05<00:00, 81.10it/s]\n"
     ]
    },
    {
     "name": "stdout",
     "output_type": "stream",
     "text": [
      "----------------------------------------------------\n",
      "Epoch No 13\n",
      "The Training loss of the epoch,  0.5481862658399275\n",
      "The Training AUC of the epoch,  0.79664\n",
      "The validation loss of the epoch,  0.6040958155845774\n",
      "The validation AUC of the epoch, 0.78421\n",
      "----------------------------------------------------\n"
     ]
    },
    {
     "name": "stderr",
     "output_type": "stream",
     "text": [
      "100%|███████████████████████████████████████████████████████████████████████████████| 1740/1740 [00:56<00:00, 31.06it/s]\n",
      "100%|█████████████████████████████████████████████████████████████████████████████████| 435/435 [00:06<00:00, 70.35it/s]\n"
     ]
    },
    {
     "name": "stdout",
     "output_type": "stream",
     "text": [
      "----------------------------------------------------\n",
      "Epoch No 14\n",
      "The Training loss of the epoch,  0.547614611085804\n",
      "The Training AUC of the epoch,  0.79714\n",
      "The validation loss of the epoch,  0.5581180897937423\n",
      "The validation AUC of the epoch, 0.78921\n",
      "----------------------------------------------------\n",
      "Epoch 00015: reducing learning rate of group 0 to 5.0000e-04.\n"
     ]
    },
    {
     "name": "stderr",
     "output_type": "stream",
     "text": [
      "100%|███████████████████████████████████████████████████████████████████████████████| 1740/1740 [00:55<00:00, 31.11it/s]\n",
      "100%|█████████████████████████████████████████████████████████████████████████████████| 435/435 [00:06<00:00, 63.01it/s]\n"
     ]
    },
    {
     "name": "stdout",
     "output_type": "stream",
     "text": [
      "----------------------------------------------------\n",
      "Epoch No 15\n",
      "The Training loss of the epoch,  0.54267675549477\n",
      "The Training AUC of the epoch,  0.80162\n",
      "The validation loss of the epoch,  0.5734108267844409\n",
      "The validation AUC of the epoch, 0.78931\n",
      "----------------------------------------------------\n"
     ]
    },
    {
     "name": "stderr",
     "output_type": "stream",
     "text": [
      "100%|███████████████████████████████████████████████████████████████████████████████| 1740/1740 [00:56<00:00, 30.61it/s]\n",
      "100%|█████████████████████████████████████████████████████████████████████████████████| 435/435 [00:08<00:00, 53.93it/s]\n"
     ]
    },
    {
     "name": "stdout",
     "output_type": "stream",
     "text": [
      "----------------------------------------------------\n",
      "Epoch No 16\n",
      "The Training loss of the epoch,  0.5417110431125794\n",
      "The Training AUC of the epoch,  0.80255\n",
      "The validation loss of the epoch,  0.5547579847533127\n",
      "The validation AUC of the epoch, 0.79287\n",
      "----------------------------------------------------\n"
     ]
    },
    {
     "name": "stderr",
     "output_type": "stream",
     "text": [
      "100%|███████████████████████████████████████████████████████████████████████████████| 1740/1740 [00:56<00:00, 30.57it/s]\n",
      "100%|█████████████████████████████████████████████████████████████████████████████████| 435/435 [00:05<00:00, 82.89it/s]\n"
     ]
    },
    {
     "name": "stdout",
     "output_type": "stream",
     "text": [
      "----------------------------------------------------\n",
      "Epoch No 17\n",
      "The Training loss of the epoch,  0.5406211197033696\n",
      "The Training AUC of the epoch,  0.80349\n",
      "The validation loss of the epoch,  0.5536575892875935\n",
      "The validation AUC of the epoch, 0.79349\n",
      "----------------------------------------------------\n"
     ]
    },
    {
     "name": "stderr",
     "output_type": "stream",
     "text": [
      "100%|███████████████████████████████████████████████████████████████████████████████| 1740/1740 [00:57<00:00, 30.50it/s]\n",
      "100%|█████████████████████████████████████████████████████████████████████████████████| 435/435 [00:07<00:00, 58.08it/s]\n"
     ]
    },
    {
     "name": "stdout",
     "output_type": "stream",
     "text": [
      "----------------------------------------------------\n",
      "Epoch No 18\n",
      "The Training loss of the epoch,  0.5395264832452796\n",
      "The Training AUC of the epoch,  0.80451\n",
      "The validation loss of the epoch,  0.5598891857026638\n",
      "The validation AUC of the epoch, 0.78637\n",
      "----------------------------------------------------\n"
     ]
    },
    {
     "name": "stderr",
     "output_type": "stream",
     "text": [
      "100%|███████████████████████████████████████████████████████████████████████████████| 1740/1740 [00:58<00:00, 29.90it/s]\n",
      "100%|█████████████████████████████████████████████████████████████████████████████████| 435/435 [00:06<00:00, 71.10it/s]\n"
     ]
    },
    {
     "name": "stdout",
     "output_type": "stream",
     "text": [
      "----------------------------------------------------\n",
      "Epoch No 19\n",
      "The Training loss of the epoch,  0.538327594255579\n",
      "The Training AUC of the epoch,  0.80554\n",
      "The validation loss of the epoch,  0.583565124835091\n",
      "The validation AUC of the epoch, 0.78896\n",
      "----------------------------------------------------\n"
     ]
    },
    {
     "name": "stderr",
     "output_type": "stream",
     "text": [
      "100%|███████████████████████████████████████████████████████████████████████████████| 1740/1740 [00:57<00:00, 30.20it/s]\n",
      "100%|█████████████████████████████████████████████████████████████████████████████████| 435/435 [00:07<00:00, 58.63it/s]\n"
     ]
    },
    {
     "name": "stdout",
     "output_type": "stream",
     "text": [
      "----------------------------------------------------\n",
      "Epoch No 20\n",
      "The Training loss of the epoch,  0.537993019647982\n",
      "The Training AUC of the epoch,  0.80589\n",
      "The validation loss of the epoch,  0.5606631567423371\n",
      "The validation AUC of the epoch, 0.79182\n",
      "----------------------------------------------------\n"
     ]
    },
    {
     "name": "stderr",
     "output_type": "stream",
     "text": [
      "100%|███████████████████████████████████████████████████████████████████████████████| 1740/1740 [01:02<00:00, 27.76it/s]\n",
      "100%|█████████████████████████████████████████████████████████████████████████████████| 435/435 [00:05<00:00, 82.80it/s]\n"
     ]
    },
    {
     "name": "stdout",
     "output_type": "stream",
     "text": [
      "----------------------------------------------------\n",
      "Epoch No 21\n",
      "The Training loss of the epoch,  0.5365992264672258\n",
      "The Training AUC of the epoch,  0.80713\n",
      "The validation loss of the epoch,  0.5706449408640807\n",
      "The validation AUC of the epoch, 0.78346\n",
      "----------------------------------------------------\n",
      "Epoch 00022: reducing learning rate of group 0 to 2.5000e-04.\n"
     ]
    },
    {
     "name": "stderr",
     "output_type": "stream",
     "text": [
      "100%|███████████████████████████████████████████████████████████████████████████████| 1740/1740 [00:57<00:00, 30.11it/s]\n",
      "100%|█████████████████████████████████████████████████████████████████████████████████| 435/435 [00:05<00:00, 81.04it/s]\n"
     ]
    },
    {
     "name": "stdout",
     "output_type": "stream",
     "text": [
      "----------------------------------------------------\n",
      "Epoch No 22\n",
      "The Training loss of the epoch,  0.53349459018858\n",
      "The Training AUC of the epoch,  0.80989\n",
      "The validation loss of the epoch,  0.5566455699931616\n",
      "The validation AUC of the epoch, 0.79247\n",
      "----------------------------------------------------\n"
     ]
    },
    {
     "name": "stderr",
     "output_type": "stream",
     "text": [
      "100%|███████████████████████████████████████████████████████████████████████████████| 1740/1740 [00:59<00:00, 29.31it/s]\n",
      "100%|█████████████████████████████████████████████████████████████████████████████████| 435/435 [00:05<00:00, 81.50it/s]\n"
     ]
    },
    {
     "name": "stdout",
     "output_type": "stream",
     "text": [
      "----------------------------------------------------\n",
      "Epoch No 23\n",
      "The Training loss of the epoch,  0.5325886261874232\n",
      "The Training AUC of the epoch,  0.81054\n",
      "The validation loss of the epoch,  0.5537797611335228\n",
      "The validation AUC of the epoch, 0.79486\n",
      "----------------------------------------------------\n"
     ]
    },
    {
     "name": "stderr",
     "output_type": "stream",
     "text": [
      "100%|███████████████████████████████████████████████████████████████████████████████| 1740/1740 [01:06<00:00, 26.21it/s]\n",
      "100%|█████████████████████████████████████████████████████████████████████████████████| 435/435 [00:05<00:00, 78.00it/s]\n"
     ]
    },
    {
     "name": "stdout",
     "output_type": "stream",
     "text": [
      "----------------------------------------------------\n",
      "Epoch No 24\n",
      "The Training loss of the epoch,  0.5311826479160923\n",
      "The Training AUC of the epoch,  0.81178\n",
      "The validation loss of the epoch,  0.5548172943208409\n",
      "The validation AUC of the epoch, 0.79416\n",
      "----------------------------------------------------\n"
     ]
    },
    {
     "name": "stderr",
     "output_type": "stream",
     "text": [
      "100%|███████████████████████████████████████████████████████████████████████████████| 1740/1740 [00:57<00:00, 30.17it/s]\n",
      "100%|█████████████████████████████████████████████████████████████████████████████████| 435/435 [00:05<00:00, 77.61it/s]\n"
     ]
    },
    {
     "name": "stdout",
     "output_type": "stream",
     "text": [
      "----------------------------------------------------\n",
      "Epoch No 25\n",
      "The Training loss of the epoch,  0.5306482894495986\n",
      "The Training AUC of the epoch,  0.81223\n",
      "The validation loss of the epoch,  0.5515958742848758\n",
      "The validation AUC of the epoch, 0.79459\n",
      "----------------------------------------------------\n"
     ]
    },
    {
     "name": "stderr",
     "output_type": "stream",
     "text": [
      "100%|███████████████████████████████████████████████████████████████████████████████| 1740/1740 [01:02<00:00, 27.76it/s]\n",
      "100%|█████████████████████████████████████████████████████████████████████████████████| 435/435 [00:05<00:00, 76.86it/s]\n"
     ]
    },
    {
     "name": "stdout",
     "output_type": "stream",
     "text": [
      "----------------------------------------------------\n",
      "Epoch No 26\n",
      "The Training loss of the epoch,  0.5299441574462529\n",
      "The Training AUC of the epoch,  0.81288\n",
      "The validation loss of the epoch,  0.5574007776276818\n",
      "The validation AUC of the epoch, 0.79311\n",
      "----------------------------------------------------\n"
     ]
    },
    {
     "name": "stderr",
     "output_type": "stream",
     "text": [
      "100%|███████████████████████████████████████████████████████████████████████████████| 1740/1740 [00:58<00:00, 29.89it/s]\n",
      "100%|█████████████████████████████████████████████████████████████████████████████████| 435/435 [00:05<00:00, 79.68it/s]\n"
     ]
    },
    {
     "name": "stdout",
     "output_type": "stream",
     "text": [
      "----------------------------------------------------\n",
      "Epoch No 27\n",
      "The Training loss of the epoch,  0.5290191063421896\n",
      "The Training AUC of the epoch,  0.81364\n",
      "The validation loss of the epoch,  0.550625035269507\n",
      "The validation AUC of the epoch, 0.79483\n",
      "----------------------------------------------------\n",
      "Epoch 00028: reducing learning rate of group 0 to 1.2500e-04.\n"
     ]
    },
    {
     "name": "stderr",
     "output_type": "stream",
     "text": [
      "100%|███████████████████████████████████████████████████████████████████████████████| 1740/1740 [00:57<00:00, 30.49it/s]\n",
      "100%|█████████████████████████████████████████████████████████████████████████████████| 435/435 [00:05<00:00, 77.15it/s]\n"
     ]
    },
    {
     "name": "stdout",
     "output_type": "stream",
     "text": [
      "----------------------------------------------------\n",
      "Epoch No 28\n",
      "The Training loss of the epoch,  0.5269605679758664\n",
      "The Training AUC of the epoch,  0.81534\n",
      "The validation loss of the epoch,  0.5523438557126056\n",
      "The validation AUC of the epoch, 0.79487\n",
      "----------------------------------------------------\n"
     ]
    },
    {
     "name": "stderr",
     "output_type": "stream",
     "text": [
      "100%|███████████████████████████████████████████████████████████████████████████████| 1740/1740 [01:17<00:00, 22.43it/s]\n",
      "100%|█████████████████████████████████████████████████████████████████████████████████| 435/435 [00:05<00:00, 78.84it/s]\n"
     ]
    },
    {
     "name": "stdout",
     "output_type": "stream",
     "text": [
      "----------------------------------------------------\n",
      "Epoch No 29\n",
      "The Training loss of the epoch,  0.5261796998224039\n",
      "The Training AUC of the epoch,  0.81600\n",
      "The validation loss of the epoch,  0.5513838258968002\n",
      "The validation AUC of the epoch, 0.79513\n",
      "----------------------------------------------------\n"
     ]
    },
    {
     "name": "stderr",
     "output_type": "stream",
     "text": [
      "100%|███████████████████████████████████████████████████████████████████████████████| 1740/1740 [01:01<00:00, 28.26it/s]\n",
      "100%|█████████████████████████████████████████████████████████████████████████████████| 435/435 [00:05<00:00, 78.65it/s]\n"
     ]
    },
    {
     "name": "stdout",
     "output_type": "stream",
     "text": [
      "----------------------------------------------------\n",
      "Epoch No 30\n",
      "The Training loss of the epoch,  0.5254452605357115\n",
      "The Training AUC of the epoch,  0.81661\n",
      "The validation loss of the epoch,  0.552877914837037\n",
      "The validation AUC of the epoch, 0.79432\n",
      "----------------------------------------------------\n"
     ]
    },
    {
     "name": "stderr",
     "output_type": "stream",
     "text": [
      "100%|███████████████████████████████████████████████████████████████████████████████| 1740/1740 [00:57<00:00, 30.05it/s]\n",
      "100%|█████████████████████████████████████████████████████████████████████████████████| 435/435 [00:05<00:00, 79.54it/s]\n"
     ]
    },
    {
     "name": "stdout",
     "output_type": "stream",
     "text": [
      "----------------------------------------------------\n",
      "Epoch No 31\n",
      "The Training loss of the epoch,  0.5252449233812847\n",
      "The Training AUC of the epoch,  0.81680\n",
      "The validation loss of the epoch,  0.5558129647682453\n",
      "The validation AUC of the epoch, 0.79280\n",
      "----------------------------------------------------\n"
     ]
    },
    {
     "name": "stderr",
     "output_type": "stream",
     "text": [
      "100%|███████████████████████████████████████████████████████████████████████████████| 1740/1740 [00:56<00:00, 31.02it/s]\n",
      "100%|█████████████████████████████████████████████████████████████████████████████████| 435/435 [00:05<00:00, 79.66it/s]\n"
     ]
    },
    {
     "name": "stdout",
     "output_type": "stream",
     "text": [
      "----------------------------------------------------\n",
      "Epoch No 32\n",
      "The Training loss of the epoch,  0.524257376772919\n",
      "The Training AUC of the epoch,  0.81762\n",
      "The validation loss of the epoch,  0.5612572698757566\n",
      "The validation AUC of the epoch, 0.78621\n",
      "----------------------------------------------------\n"
     ]
    },
    {
     "name": "stderr",
     "output_type": "stream",
     "text": [
      "100%|███████████████████████████████████████████████████████████████████████████████| 1740/1740 [00:56<00:00, 30.62it/s]\n",
      "100%|█████████████████████████████████████████████████████████████████████████████████| 435/435 [00:05<00:00, 81.85it/s]\n"
     ]
    },
    {
     "name": "stdout",
     "output_type": "stream",
     "text": [
      "----------------------------------------------------\n",
      "Epoch No 33\n",
      "The Training loss of the epoch,  0.5239457629706668\n",
      "The Training AUC of the epoch,  0.81784\n",
      "The validation loss of the epoch,  0.5537309160862846\n",
      "The validation AUC of the epoch, 0.79358\n",
      "----------------------------------------------------\n",
      "Epoch 00034: reducing learning rate of group 0 to 6.2500e-05.\n"
     ]
    },
    {
     "name": "stderr",
     "output_type": "stream",
     "text": [
      "100%|███████████████████████████████████████████████████████████████████████████████| 1740/1740 [00:59<00:00, 29.28it/s]\n",
      "100%|█████████████████████████████████████████████████████████████████████████████████| 435/435 [00:05<00:00, 84.50it/s]\n"
     ]
    },
    {
     "name": "stdout",
     "output_type": "stream",
     "text": [
      "----------------------------------------------------\n",
      "Epoch No 34\n",
      "The Training loss of the epoch,  0.5226811457639453\n",
      "The Training AUC of the epoch,  0.81892\n",
      "The validation loss of the epoch,  0.5542510580742496\n",
      "The validation AUC of the epoch, 0.79346\n",
      "----------------------------------------------------\n"
     ]
    },
    {
     "name": "stderr",
     "output_type": "stream",
     "text": [
      "100%|███████████████████████████████████████████████████████████████████████████████| 1740/1740 [01:02<00:00, 27.70it/s]\n",
      "100%|█████████████████████████████████████████████████████████████████████████████████| 435/435 [00:05<00:00, 82.27it/s]\n"
     ]
    },
    {
     "name": "stdout",
     "output_type": "stream",
     "text": [
      "----------------------------------------------------\n",
      "Epoch No 35\n",
      "The Training loss of the epoch,  0.5225007243711373\n",
      "The Training AUC of the epoch,  0.81912\n",
      "The validation loss of the epoch,  0.553727236150325\n",
      "The validation AUC of the epoch, 0.79337\n",
      "----------------------------------------------------\n"
     ]
    },
    {
     "name": "stderr",
     "output_type": "stream",
     "text": [
      "100%|███████████████████████████████████████████████████████████████████████████████| 1740/1740 [01:15<00:00, 23.13it/s]\n",
      "100%|█████████████████████████████████████████████████████████████████████████████████| 435/435 [00:05<00:00, 76.71it/s]\n"
     ]
    },
    {
     "name": "stdout",
     "output_type": "stream",
     "text": [
      "----------------------------------------------------\n",
      "Epoch No 36\n",
      "The Training loss of the epoch,  0.5216507554739371\n",
      "The Training AUC of the epoch,  0.81979\n",
      "The validation loss of the epoch,  0.5541159246844807\n",
      "The validation AUC of the epoch, 0.79417\n",
      "----------------------------------------------------\n"
     ]
    },
    {
     "name": "stderr",
     "output_type": "stream",
     "text": [
      "100%|███████████████████████████████████████████████████████████████████████████████| 1740/1740 [01:03<00:00, 27.35it/s]\n",
      "100%|█████████████████████████████████████████████████████████████████████████████████| 435/435 [00:05<00:00, 83.55it/s]\n"
     ]
    },
    {
     "name": "stdout",
     "output_type": "stream",
     "text": [
      "----------------------------------------------------\n",
      "Epoch No 37\n",
      "The Training loss of the epoch,  0.5215700380418492\n",
      "The Training AUC of the epoch,  0.81984\n",
      "The validation loss of the epoch,  0.5552075463464891\n",
      "The validation AUC of the epoch, 0.79384\n",
      "----------------------------------------------------\n",
      "Epoch 00038: reducing learning rate of group 0 to 3.1250e-05.\n"
     ]
    },
    {
     "name": "stderr",
     "output_type": "stream",
     "text": [
      "100%|███████████████████████████████████████████████████████████████████████████████| 1740/1740 [01:03<00:00, 27.48it/s]\n",
      "100%|█████████████████████████████████████████████████████████████████████████████████| 435/435 [00:05<00:00, 79.82it/s]\n"
     ]
    },
    {
     "name": "stdout",
     "output_type": "stream",
     "text": [
      "----------------------------------------------------\n",
      "Epoch No 38\n",
      "The Training loss of the epoch,  0.5209117345940107\n",
      "The Training AUC of the epoch,  0.82035\n",
      "The validation loss of the epoch,  0.5542399574285266\n",
      "The validation AUC of the epoch, 0.79322\n",
      "----------------------------------------------------\n"
     ]
    },
    {
     "name": "stderr",
     "output_type": "stream",
     "text": [
      "100%|███████████████████████████████████████████████████████████████████████████████| 1740/1740 [01:01<00:00, 28.19it/s]\n",
      "100%|█████████████████████████████████████████████████████████████████████████████████| 435/435 [00:05<00:00, 82.84it/s]\n"
     ]
    },
    {
     "name": "stdout",
     "output_type": "stream",
     "text": [
      "----------------------------------------------------\n",
      "Epoch No 39\n",
      "The Training loss of the epoch,  0.520097541740571\n",
      "The Training AUC of the epoch,  0.82107\n",
      "The validation loss of the epoch,  0.554557052014888\n",
      "The validation AUC of the epoch, 0.79270\n",
      "----------------------------------------------------\n"
     ]
    },
    {
     "name": "stderr",
     "output_type": "stream",
     "text": [
      "100%|███████████████████████████████████████████████████████████████████████████████| 1740/1740 [00:56<00:00, 30.68it/s]\n",
      "100%|█████████████████████████████████████████████████████████████████████████████████| 435/435 [00:05<00:00, 80.86it/s]\n"
     ]
    },
    {
     "name": "stdout",
     "output_type": "stream",
     "text": [
      "----------------------------------------------------\n",
      "Epoch No 40\n",
      "The Training loss of the epoch,  0.5200293339189441\n",
      "The Training AUC of the epoch,  0.82114\n",
      "The validation loss of the epoch,  0.5541961663070767\n",
      "The validation AUC of the epoch, 0.79283\n",
      "----------------------------------------------------\n"
     ]
    },
    {
     "name": "stderr",
     "output_type": "stream",
     "text": [
      "100%|███████████████████████████████████████████████████████████████████████████████| 1740/1740 [00:59<00:00, 29.49it/s]\n",
      "100%|█████████████████████████████████████████████████████████████████████████████████| 435/435 [00:05<00:00, 83.51it/s]\n"
     ]
    },
    {
     "name": "stdout",
     "output_type": "stream",
     "text": [
      "----------------------------------------------------\n",
      "Epoch No 41\n",
      "The Training loss of the epoch,  0.5199767083786\n",
      "The Training AUC of the epoch,  0.82115\n",
      "The validation loss of the epoch,  0.5548742529304548\n",
      "The validation AUC of the epoch, 0.79242\n",
      "----------------------------------------------------\n",
      "Epoch 00042: reducing learning rate of group 0 to 1.5625e-05.\n"
     ]
    },
    {
     "name": "stderr",
     "output_type": "stream",
     "text": [
      "100%|███████████████████████████████████████████████████████████████████████████████| 1740/1740 [00:57<00:00, 30.31it/s]\n",
      "100%|█████████████████████████████████████████████████████████████████████████████████| 435/435 [00:05<00:00, 83.34it/s]\n"
     ]
    },
    {
     "name": "stdout",
     "output_type": "stream",
     "text": [
      "----------------------------------------------------\n",
      "Epoch No 42\n",
      "The Training loss of the epoch,  0.519028637172847\n",
      "The Training AUC of the epoch,  0.82194\n",
      "The validation loss of the epoch,  0.5548488184638407\n",
      "The validation AUC of the epoch, 0.79280\n",
      "----------------------------------------------------\n"
     ]
    },
    {
     "name": "stderr",
     "output_type": "stream",
     "text": [
      "100%|███████████████████████████████████████████████████████████████████████████████| 1740/1740 [00:58<00:00, 29.98it/s]\n",
      "100%|█████████████████████████████████████████████████████████████████████████████████| 435/435 [00:05<00:00, 81.79it/s]\n"
     ]
    },
    {
     "name": "stdout",
     "output_type": "stream",
     "text": [
      "----------------------------------------------------\n",
      "Epoch No 43\n",
      "The Training loss of the epoch,  0.5191502870156848\n",
      "The Training AUC of the epoch,  0.82181\n",
      "The validation loss of the epoch,  0.5540870395200006\n",
      "The validation AUC of the epoch, 0.79322\n",
      "----------------------------------------------------\n"
     ]
    },
    {
     "name": "stderr",
     "output_type": "stream",
     "text": [
      "100%|███████████████████████████████████████████████████████████████████████████████| 1740/1740 [00:57<00:00, 30.09it/s]\n",
      "100%|█████████████████████████████████████████████████████████████████████████████████| 435/435 [00:05<00:00, 80.17it/s]\n"
     ]
    },
    {
     "name": "stdout",
     "output_type": "stream",
     "text": [
      "----------------------------------------------------\n",
      "Epoch No 44\n",
      "The Training loss of the epoch,  0.5189995972246959\n",
      "The Training AUC of the epoch,  0.82198\n",
      "The validation loss of the epoch,  0.5547093753156991\n",
      "The validation AUC of the epoch, 0.79280\n",
      "----------------------------------------------------\n"
     ]
    },
    {
     "name": "stderr",
     "output_type": "stream",
     "text": [
      "100%|███████████████████████████████████████████████████████████████████████████████| 1740/1740 [00:56<00:00, 30.86it/s]\n",
      "100%|█████████████████████████████████████████████████████████████████████████████████| 435/435 [00:05<00:00, 82.04it/s]\n"
     ]
    },
    {
     "name": "stdout",
     "output_type": "stream",
     "text": [
      "----------------------------------------------------\n",
      "Epoch No 45\n",
      "The Training loss of the epoch,  0.5191527038298804\n",
      "The Training AUC of the epoch,  0.82182\n",
      "The validation loss of the epoch,  0.5555991629074359\n",
      "The validation AUC of the epoch, 0.79275\n",
      "----------------------------------------------------\n",
      "Epoch 00046: reducing learning rate of group 0 to 7.8125e-06.\n"
     ]
    },
    {
     "name": "stderr",
     "output_type": "stream",
     "text": [
      "100%|███████████████████████████████████████████████████████████████████████████████| 1740/1740 [00:57<00:00, 30.03it/s]\n",
      "100%|█████████████████████████████████████████████████████████████████████████████████| 435/435 [00:05<00:00, 83.49it/s]\n"
     ]
    },
    {
     "name": "stdout",
     "output_type": "stream",
     "text": [
      "----------------------------------------------------\n",
      "Epoch No 46\n",
      "The Training loss of the epoch,  0.5187672031679372\n",
      "The Training AUC of the epoch,  0.82212\n",
      "The validation loss of the epoch,  0.5548163973737037\n",
      "The validation AUC of the epoch, 0.79290\n",
      "----------------------------------------------------\n"
     ]
    },
    {
     "name": "stderr",
     "output_type": "stream",
     "text": [
      "100%|███████████████████████████████████████████████████████████████████████████████| 1740/1740 [00:57<00:00, 30.48it/s]\n",
      "100%|█████████████████████████████████████████████████████████████████████████████████| 435/435 [00:05<00:00, 80.52it/s]\n"
     ]
    },
    {
     "name": "stdout",
     "output_type": "stream",
     "text": [
      "----------------------------------------------------\n",
      "Epoch No 47\n",
      "The Training loss of the epoch,  0.5189309431903664\n",
      "The Training AUC of the epoch,  0.82200\n",
      "The validation loss of the epoch,  0.555812435246062\n",
      "The validation AUC of the epoch, 0.79271\n",
      "----------------------------------------------------\n"
     ]
    },
    {
     "name": "stderr",
     "output_type": "stream",
     "text": [
      "100%|███████████████████████████████████████████████████████████████████████████████| 1740/1740 [00:55<00:00, 31.13it/s]\n",
      "100%|█████████████████████████████████████████████████████████████████████████████████| 435/435 [00:05<00:00, 83.32it/s]\n"
     ]
    },
    {
     "name": "stdout",
     "output_type": "stream",
     "text": [
      "----------------------------------------------------\n",
      "Epoch No 48\n",
      "The Training loss of the epoch,  0.5190242313619318\n",
      "The Training AUC of the epoch,  0.82194\n",
      "The validation loss of the epoch,  0.5547718557818183\n",
      "The validation AUC of the epoch, 0.79236\n",
      "----------------------------------------------------\n"
     ]
    },
    {
     "name": "stderr",
     "output_type": "stream",
     "text": [
      "100%|███████████████████████████████████████████████████████████████████████████████| 1740/1740 [00:56<00:00, 30.91it/s]\n",
      "100%|█████████████████████████████████████████████████████████████████████████████████| 435/435 [00:05<00:00, 82.60it/s]\n"
     ]
    },
    {
     "name": "stdout",
     "output_type": "stream",
     "text": [
      "----------------------------------------------------\n",
      "Epoch No 49\n",
      "The Training loss of the epoch,  0.5186577582325058\n",
      "The Training AUC of the epoch,  0.82222\n",
      "The validation loss of the epoch,  0.5551548405625354\n",
      "The validation AUC of the epoch, 0.79257\n",
      "----------------------------------------------------\n",
      "Epoch 00050: reducing learning rate of group 0 to 3.9063e-06.\n"
     ]
    },
    {
     "name": "stderr",
     "output_type": "stream",
     "text": [
      "100%|███████████████████████████████████████████████████████████████████████████████| 1740/1740 [00:57<00:00, 30.47it/s]\n",
      "100%|█████████████████████████████████████████████████████████████████████████████████| 435/435 [00:05<00:00, 77.26it/s]\n"
     ]
    },
    {
     "name": "stdout",
     "output_type": "stream",
     "text": [
      "----------------------------------------------------\n",
      "Epoch No 50\n",
      "The Training loss of the epoch,  0.5188696794297504\n",
      "The Training AUC of the epoch,  0.82208\n",
      "The validation loss of the epoch,  0.555101530716337\n",
      "The validation AUC of the epoch, 0.79282\n",
      "----------------------------------------------------\n"
     ]
    },
    {
     "name": "stderr",
     "output_type": "stream",
     "text": [
      "100%|███████████████████████████████████████████████████████████████████████████████| 1740/1740 [00:59<00:00, 29.00it/s]\n",
      "100%|█████████████████████████████████████████████████████████████████████████████████| 435/435 [00:05<00:00, 78.08it/s]\n"
     ]
    },
    {
     "name": "stdout",
     "output_type": "stream",
     "text": [
      "----------------------------------------------------\n",
      "Epoch No 51\n",
      "The Training loss of the epoch,  0.5184912486494273\n",
      "The Training AUC of the epoch,  0.82233\n",
      "The validation loss of the epoch,  0.5559658995304985\n",
      "The validation AUC of the epoch, 0.79280\n",
      "----------------------------------------------------\n"
     ]
    },
    {
     "name": "stderr",
     "output_type": "stream",
     "text": [
      "100%|███████████████████████████████████████████████████████████████████████████████| 1740/1740 [00:58<00:00, 29.84it/s]\n",
      "100%|█████████████████████████████████████████████████████████████████████████████████| 435/435 [00:05<00:00, 77.63it/s]\n"
     ]
    },
    {
     "name": "stdout",
     "output_type": "stream",
     "text": [
      "----------------------------------------------------\n",
      "Epoch No 52\n",
      "The Training loss of the epoch,  0.5183931536373051\n",
      "The Training AUC of the epoch,  0.82241\n",
      "The validation loss of the epoch,  0.5551680009940575\n",
      "The validation AUC of the epoch, 0.79253\n",
      "----------------------------------------------------\n"
     ]
    },
    {
     "name": "stderr",
     "output_type": "stream",
     "text": [
      "100%|███████████████████████████████████████████████████████████████████████████████| 1740/1740 [00:57<00:00, 30.51it/s]\n",
      "100%|█████████████████████████████████████████████████████████████████████████████████| 435/435 [00:05<00:00, 80.89it/s]\n"
     ]
    },
    {
     "name": "stdout",
     "output_type": "stream",
     "text": [
      "----------------------------------------------------\n",
      "Epoch No 53\n",
      "The Training loss of the epoch,  0.5183918035749732\n",
      "The Training AUC of the epoch,  0.82244\n",
      "The validation loss of the epoch,  0.5548599019132812\n",
      "The validation AUC of the epoch, 0.79242\n",
      "----------------------------------------------------\n",
      "Epoch 00054: reducing learning rate of group 0 to 1.9531e-06.\n"
     ]
    },
    {
     "name": "stderr",
     "output_type": "stream",
     "text": [
      "100%|███████████████████████████████████████████████████████████████████████████████| 1740/1740 [00:56<00:00, 30.84it/s]\n",
      "100%|█████████████████████████████████████████████████████████████████████████████████| 435/435 [00:05<00:00, 84.99it/s]\n"
     ]
    },
    {
     "name": "stdout",
     "output_type": "stream",
     "text": [
      "----------------------------------------------------\n",
      "Epoch No 54\n",
      "The Training loss of the epoch,  0.5186576839151054\n",
      "The Training AUC of the epoch,  0.82223\n",
      "The validation loss of the epoch,  0.5546720826077736\n",
      "The validation AUC of the epoch, 0.79247\n",
      "----------------------------------------------------\n"
     ]
    },
    {
     "name": "stderr",
     "output_type": "stream",
     "text": [
      "100%|███████████████████████████████████████████████████████████████████████████████| 1740/1740 [00:57<00:00, 30.19it/s]\n",
      "100%|█████████████████████████████████████████████████████████████████████████████████| 435/435 [00:05<00:00, 85.15it/s]\n"
     ]
    },
    {
     "name": "stdout",
     "output_type": "stream",
     "text": [
      "----------------------------------------------------\n",
      "Epoch No 55\n",
      "The Training loss of the epoch,  0.5178224901872119\n",
      "The Training AUC of the epoch,  0.82287\n",
      "The validation loss of the epoch,  0.5550880899374513\n",
      "The validation AUC of the epoch, 0.79262\n",
      "----------------------------------------------------\n"
     ]
    },
    {
     "name": "stderr",
     "output_type": "stream",
     "text": [
      "100%|███████████████████████████████████████████████████████████████████████████████| 1740/1740 [00:57<00:00, 30.20it/s]\n",
      "100%|█████████████████████████████████████████████████████████████████████████████████| 435/435 [00:05<00:00, 87.00it/s]\n"
     ]
    },
    {
     "name": "stdout",
     "output_type": "stream",
     "text": [
      "----------------------------------------------------\n",
      "Epoch No 56\n",
      "The Training loss of the epoch,  0.5181857691242777\n",
      "The Training AUC of the epoch,  0.82260\n",
      "The validation loss of the epoch,  0.5549726090897089\n",
      "The validation AUC of the epoch, 0.79261\n",
      "----------------------------------------------------\n"
     ]
    },
    {
     "name": "stderr",
     "output_type": "stream",
     "text": [
      "100%|███████████████████████████████████████████████████████████████████████████████| 1740/1740 [01:01<00:00, 28.22it/s]\n",
      "100%|█████████████████████████████████████████████████████████████████████████████████| 435/435 [00:05<00:00, 83.17it/s]\n"
     ]
    },
    {
     "name": "stdout",
     "output_type": "stream",
     "text": [
      "----------------------------------------------------\n",
      "Epoch No 57\n",
      "The Training loss of the epoch,  0.5184442525279933\n",
      "The Training AUC of the epoch,  0.82238\n",
      "The validation loss of the epoch,  0.5552712167131489\n",
      "The validation AUC of the epoch, 0.79277\n",
      "----------------------------------------------------\n",
      "Epoch 00058: reducing learning rate of group 0 to 9.7656e-07.\n"
     ]
    },
    {
     "name": "stderr",
     "output_type": "stream",
     "text": [
      "100%|███████████████████████████████████████████████████████████████████████████████| 1740/1740 [01:02<00:00, 27.67it/s]\n",
      "100%|█████████████████████████████████████████████████████████████████████████████████| 435/435 [00:05<00:00, 84.29it/s]\n"
     ]
    },
    {
     "name": "stdout",
     "output_type": "stream",
     "text": [
      "----------------------------------------------------\n",
      "Epoch No 58\n",
      "The Training loss of the epoch,  0.518316581211556\n",
      "The Training AUC of the epoch,  0.82250\n",
      "The validation loss of the epoch,  0.5549835674379063\n",
      "The validation AUC of the epoch, 0.79259\n",
      "----------------------------------------------------\n"
     ]
    },
    {
     "name": "stderr",
     "output_type": "stream",
     "text": [
      " 49%|██████████████████████████████████████▊                                         | 844/1740 [00:36<00:50, 17.60it/s]"
     ]
    }
   ],
   "source": [
    "trainer()"
   ]
  }
 ],
 "metadata": {
  "kernelspec": {
   "display_name": "work",
   "language": "python",
   "name": "work"
  },
  "language_info": {
   "codemirror_mode": {
    "name": "ipython",
    "version": 3
   },
   "file_extension": ".py",
   "mimetype": "text/x-python",
   "name": "python",
   "nbconvert_exporter": "python",
   "pygments_lexer": "ipython3",
   "version": "3.8.10"
  }
 },
 "nbformat": 4,
 "nbformat_minor": 4
}
