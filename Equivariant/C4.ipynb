{
 "cells": [
  {
   "cell_type": "code",
   "execution_count": 1,
   "metadata": {},
   "outputs": [
    {
     "name": "stderr",
     "output_type": "stream",
     "text": [
      "/home/diptarko/work/lib/python3.8/site-packages/tqdm/auto.py:22: TqdmWarning: IProgress not found. Please update jupyter and ipywidgets. See https://ipywidgets.readthedocs.io/en/stable/user_install.html\n",
      "  from .autonotebook import tqdm as notebook_tqdm\n"
     ]
    }
   ],
   "source": [
    "import numpy as np\n",
    "import torch\n",
    "import matplotlib.pyplot as plt\n",
    "import model as eq_model"
   ]
  },
  {
   "cell_type": "code",
   "execution_count": 2,
   "metadata": {},
   "outputs": [],
   "source": [
    "import numpy as np\n",
    "import torch.nn as nn\n",
    "import torch\n",
    "from torchvision import datasets, models, transforms\n",
    "\n",
    "from tqdm.auto import tqdm\n",
    "import matplotlib.pyplot as plt\n",
    "import numpy as np\n",
    "from torchvision.utils import make_grid\n",
    "from torch.utils.data import DataLoader\n",
    "import matplotlib.pyplot as plt\n",
    "from sklearn.metrics import accuracy_score\n",
    "from sklearn.metrics import roc_curve\n",
    "from sklearn import metrics\n",
    "import gc\n",
    "\n",
    "import torch\n",
    "import torch.nn as nn\n",
    "\n",
    "from einops import rearrange\n",
    "from einops.layers.torch import Rearrange\n",
    "\n",
    "\n",
    "    \n",
    "def metric(y_true, y_pred):\n",
    "    fpr, tpr, thresholds = roc_curve(y_true, y_pred)\n",
    "    auc = metrics.auc(fpr, tpr)\n",
    "    return auc\n",
    "\n",
    "def straightner(a):\n",
    "    A = np.zeros((a[0].shape[0]*len(a)))\n",
    "    start_index = 0\n",
    "    end_index = 0\n",
    "    for i in range(len(a)):\n",
    "        start_index = i*a[0].shape[0]\n",
    "        end_index = start_index+a[0].shape[0]\n",
    "        A[start_index:end_index] = a[i]\n",
    "    return A\n",
    "\n",
    "def predictor(outputs):\n",
    "    return np.argmax(outputs, axis = 1)\n",
    "\n",
    "def trainer():\n",
    "    model = eq_model.model(channels=3,N=4, group = \"cyclic\")\n",
    "    \n",
    "    train_transform = transforms.Compose([transforms.ToTensor()])\n",
    "    test_transform = transforms.Compose([transforms.ToTensor()])\n",
    "    \n",
    "    \n",
    "    dataset_Train = datasets.ImageFolder('./Data/Train/', transform=train_transform)\n",
    "    dataset_Test = datasets.ImageFolder('./Data/Test/', transform =test_transform)\n",
    "    dataloader_train = torch.utils.data.DataLoader(dataset_Train, batch_size=64, shuffle=True, drop_last = True, num_workers=4, pin_memory = True)\n",
    "    dataloader_test = torch.utils.data.DataLoader(dataset_Test, batch_size=64, shuffle=True, drop_last = True, num_workers=4, pin_memory = True)    \n",
    "    \n",
    "    \n",
    "    optimizer = torch.optim.Adam(model.parameters(), lr = 0.001)\n",
    "    criterion = nn.BCEWithLogitsLoss()\n",
    "    scheduler = torch.optim.lr_scheduler.ReduceLROnPlateau(optimizer, 'max', verbose = True,threshold = 0.0001,patience = 3, factor = 0.5)\n",
    "    \n",
    "    model = model.to(\"cuda:1\")\n",
    "    \n",
    "\n",
    "\n",
    "    import wandb\n",
    "    wandb.login(key=\"cb53927c12bd57a0d943d2dedf7881cfcdcc8f09\")\n",
    "    wandb.init(\n",
    "        project = \"Equivariant\",\n",
    "        name = \"C4\"\n",
    "    )\n",
    "\n",
    "    scaler = torch.cuda.amp.GradScaler()\n",
    "    #--------------------------\n",
    "    wandb.watch(model, log_freq=50)\n",
    "    #---------------------------\n",
    "    w_intr = 50\n",
    "\n",
    "    for epoch in range(20):\n",
    "        train_loss = 0\n",
    "        val_loss = 0\n",
    "        train_steps = 0\n",
    "        test_steps = 0\n",
    "        label_list = []\n",
    "        outputs_list = []\n",
    "        train_auc = 0\n",
    "        test_auc = 0\n",
    "        model.train()\n",
    "        for image, label in tqdm(dataloader_train):\n",
    "            image = image.to(\"cuda:1\")\n",
    "            label = label.to(\"cuda:1\")\n",
    "            with torch.no_grad():\n",
    "                image = nn.functional.pad(image, (2,1,2,1))\n",
    "            #optimizer.zero_grad()\n",
    "            for param in model.parameters():\n",
    "                param.grad = None\n",
    "\n",
    "            with torch.cuda.amp.autocast():\n",
    "              outputs = model(image)\n",
    "              loss = criterion(outputs, label.float())\n",
    "            label_list.append(label.detach().cpu().numpy())\n",
    "            outputs_list.append(outputs.detach().cpu().numpy())\n",
    "            scaler.scale(loss).backward()\n",
    "            scaler.step(optimizer)\n",
    "            scaler.update()\n",
    "            train_loss += loss.item()\n",
    "            train_steps += 1\n",
    "            if train_steps%w_intr == 0:\n",
    "                 wandb.log({\"loss\": loss.item()})\n",
    "        with torch.no_grad():\n",
    "            label_list = straightner(label_list)\n",
    "            outputs_list = straightner(outputs_list)\n",
    "            train_auc = metric(label_list, outputs_list) \n",
    "\n",
    "\n",
    "\n",
    "\n",
    "        #-------------------------------------------------------------------\n",
    "        model.eval()\n",
    "        label_list = []\n",
    "        outputs_list = []\n",
    "        with torch.no_grad():\n",
    "            for image, label in tqdm(dataloader_test):\n",
    "                image = image.to(\"cuda:1\")\n",
    "                label = label.to(\"cuda:1\")\n",
    "                image = nn.functional.pad(image, (2,1,2,1))\n",
    "                outputs = model(image)\n",
    "                loss = criterion(outputs, label.float())\n",
    "                label_list.append(label.detach().cpu().numpy())\n",
    "                outputs_list.append(outputs.detach().cpu().numpy())\n",
    "                val_loss += loss.item()\n",
    "                test_steps +=1\n",
    "                if test_steps%w_intr == 0:\n",
    "                 wandb.log({\"val_loss\": loss.item()})\n",
    "            label_list = straightner(label_list)\n",
    "            outputs_list = straightner(outputs_list)\n",
    "            test_auc = metric(label_list, outputs_list)\n",
    "\n",
    "        train_loss = train_loss/train_steps\n",
    "        val_loss = val_loss/ test_steps\n",
    "        \n",
    "        print(\"----------------------------------------------------\")\n",
    "        print(\"Epoch No\" , epoch)\n",
    "        print(\"The Training loss of the epoch, \",train_loss)\n",
    "        print(\"The Training AUC of the epoch,  %.5f\"%train_auc)\n",
    "        print(\"The validation loss of the epoch, \",val_loss)\n",
    "        print(\"The validation AUC of the epoch, %.5f\"%test_auc)\n",
    "        print(\"----------------------------------------------------\")\n",
    "        PATH = f\"model_Epoch_{epoch}.pt\"\n",
    "#         torch.save({\n",
    "#                 'epoch': epoch,\n",
    "#                 'model_state_dict': model.state_dict(),\n",
    "#                 'optimizer_state_dict': optimizer.state_dict(),\n",
    "#                 'scheduler': scheduler.state_dict()\n",
    "#                 }, PATH)\n",
    "        scheduler.step(test_auc)\n",
    "        curr_lr = scheduler._last_lr[0]\n",
    "        wandb.log({\"Train_auc_epoch\": train_auc,\n",
    "                  \"Epoch\": epoch,\n",
    "                  \"Val_auc_epoch\": test_auc,\n",
    "                  \"Train_loss_epoch\": train_loss,\n",
    "                  \"Val_loss_epoch\": val_loss,\n",
    "                  \"Lr\": curr_lr}\n",
    "                 )\n",
    "        gc.collect()\n",
    "    \n",
    "    wandb.finish()\n"
   ]
  },
  {
   "cell_type": "code",
   "execution_count": 3,
   "metadata": {
    "scrolled": false
   },
   "outputs": [
    {
     "name": "stderr",
     "output_type": "stream",
     "text": [
      "/home/diptarko/work/lib/python3.8/site-packages/e2cnn/nn/modules/r2_conv/basisexpansion_singleblock.py:80: UserWarning: indexing with dtype torch.uint8 is now deprecated, please use a dtype torch.bool instead. (Triggered internally at ../aten/src/ATen/native/IndexingUtils.h:27.)\n",
      "  full_mask[mask] = norms.to(torch.uint8)\n",
      "\u001b[34m\u001b[1mwandb\u001b[0m: Currently logged in as: \u001b[33mdc250601\u001b[0m. Use \u001b[1m`wandb login --relogin`\u001b[0m to force relogin\n",
      "\u001b[34m\u001b[1mwandb\u001b[0m: \u001b[33mWARNING\u001b[0m If you're specifying your api key in code, ensure this code is not shared publicly.\n",
      "\u001b[34m\u001b[1mwandb\u001b[0m: \u001b[33mWARNING\u001b[0m Consider setting the WANDB_API_KEY environment variable, or running `wandb login` from the command line.\n",
      "\u001b[34m\u001b[1mwandb\u001b[0m: Appending key for api.wandb.ai to your netrc file: /home/diptarko/.netrc\n"
     ]
    },
    {
     "data": {
      "text/html": [
       "wandb version 0.14.0 is available!  To upgrade, please run:\n",
       " $ pip install wandb --upgrade"
      ],
      "text/plain": [
       "<IPython.core.display.HTML object>"
      ]
     },
     "metadata": {},
     "output_type": "display_data"
    },
    {
     "data": {
      "text/html": [
       "Tracking run with wandb version 0.13.10"
      ],
      "text/plain": [
       "<IPython.core.display.HTML object>"
      ]
     },
     "metadata": {},
     "output_type": "display_data"
    },
    {
     "data": {
      "text/html": [
       "Run data is saved locally in <code>/home/diptarko/G23/wandb/run-20230403_010301-h34bera8</code>"
      ],
      "text/plain": [
       "<IPython.core.display.HTML object>"
      ]
     },
     "metadata": {},
     "output_type": "display_data"
    },
    {
     "data": {
      "text/html": [
       "Syncing run <strong><a href='https://wandb.ai/dc250601/Equivariant/runs/h34bera8' target=\"_blank\">C4</a></strong> to <a href='https://wandb.ai/dc250601/Equivariant' target=\"_blank\">Weights & Biases</a> (<a href='https://wandb.me/run' target=\"_blank\">docs</a>)<br/>"
      ],
      "text/plain": [
       "<IPython.core.display.HTML object>"
      ]
     },
     "metadata": {},
     "output_type": "display_data"
    },
    {
     "data": {
      "text/html": [
       " View project at <a href='https://wandb.ai/dc250601/Equivariant' target=\"_blank\">https://wandb.ai/dc250601/Equivariant</a>"
      ],
      "text/plain": [
       "<IPython.core.display.HTML object>"
      ]
     },
     "metadata": {},
     "output_type": "display_data"
    },
    {
     "data": {
      "text/html": [
       " View run at <a href='https://wandb.ai/dc250601/Equivariant/runs/h34bera8' target=\"_blank\">https://wandb.ai/dc250601/Equivariant/runs/h34bera8</a>"
      ],
      "text/plain": [
       "<IPython.core.display.HTML object>"
      ]
     },
     "metadata": {},
     "output_type": "display_data"
    },
    {
     "name": "stderr",
     "output_type": "stream",
     "text": [
      "100%|██████████████████████████████████████████████████████████████████████████████████████████████████████████████████████████████████████████████████████████████████████████| 1740/1740 [04:30<00:00,  6.42it/s]\n",
      "100%|████████████████████████████████████████████████████████████████████████████████████████████████████████████████████████████████████████████████████████████████████████████| 435/435 [00:23<00:00, 18.84it/s]\n"
     ]
    },
    {
     "name": "stdout",
     "output_type": "stream",
     "text": [
      "----------------------------------------------------\n",
      "Epoch No 0\n",
      "The Training loss of the epoch,  0.5767396767249052\n",
      "The Training AUC of the epoch,  0.76916\n",
      "The validation loss of the epoch,  0.5811989030618777\n",
      "The validation AUC of the epoch, 0.78157\n",
      "----------------------------------------------------\n"
     ]
    },
    {
     "name": "stderr",
     "output_type": "stream",
     "text": [
      "100%|██████████████████████████████████████████████████████████████████████████████████████████████████████████████████████████████████████████████████████████████████████████| 1740/1740 [04:29<00:00,  6.46it/s]\n",
      "100%|████████████████████████████████████████████████████████████████████████████████████████████████████████████████████████████████████████████████████████████████████████████| 435/435 [00:23<00:00, 18.85it/s]\n"
     ]
    },
    {
     "name": "stdout",
     "output_type": "stream",
     "text": [
      "----------------------------------------------------\n",
      "Epoch No 1\n",
      "The Training loss of the epoch,  0.5632140265456561\n",
      "The Training AUC of the epoch,  0.78250\n",
      "The validation loss of the epoch,  0.5628011247892489\n",
      "The validation AUC of the epoch, 0.78478\n",
      "----------------------------------------------------\n"
     ]
    },
    {
     "name": "stderr",
     "output_type": "stream",
     "text": [
      "100%|██████████████████████████████████████████████████████████████████████████████████████████████████████████████████████████████████████████████████████████████████████████| 1740/1740 [04:25<00:00,  6.54it/s]\n",
      "100%|████████████████████████████████████████████████████████████████████████████████████████████████████████████████████████████████████████████████████████████████████████████| 435/435 [00:23<00:00, 18.91it/s]\n"
     ]
    },
    {
     "name": "stdout",
     "output_type": "stream",
     "text": [
      "----------------------------------------------------\n",
      "Epoch No 2\n",
      "The Training loss of the epoch,  0.558319050279157\n",
      "The Training AUC of the epoch,  0.78711\n",
      "The validation loss of the epoch,  0.5577279192277755\n",
      "The validation AUC of the epoch, 0.78802\n",
      "----------------------------------------------------\n"
     ]
    },
    {
     "name": "stderr",
     "output_type": "stream",
     "text": [
      "100%|██████████████████████████████████████████████████████████████████████████████████████████████████████████████████████████████████████████████████████████████████████████| 1740/1740 [04:26<00:00,  6.54it/s]\n",
      "100%|████████████████████████████████████████████████████████████████████████████████████████████████████████████████████████████████████████████████████████████████████████████| 435/435 [00:23<00:00, 18.86it/s]\n"
     ]
    },
    {
     "name": "stdout",
     "output_type": "stream",
     "text": [
      "----------------------------------------------------\n",
      "Epoch No 3\n",
      "The Training loss of the epoch,  0.5544196756920595\n",
      "The Training AUC of the epoch,  0.79097\n",
      "The validation loss of the epoch,  0.5932225617184036\n",
      "The validation AUC of the epoch, 0.78940\n",
      "----------------------------------------------------\n"
     ]
    },
    {
     "name": "stderr",
     "output_type": "stream",
     "text": [
      "100%|██████████████████████████████████████████████████████████████████████████████████████████████████████████████████████████████████████████████████████████████████████████| 1740/1740 [04:26<00:00,  6.53it/s]\n",
      "100%|████████████████████████████████████████████████████████████████████████████████████████████████████████████████████████████████████████████████████████████████████████████| 435/435 [00:23<00:00, 18.82it/s]\n"
     ]
    },
    {
     "name": "stdout",
     "output_type": "stream",
     "text": [
      "----------------------------------------------------\n",
      "Epoch No 4\n",
      "The Training loss of the epoch,  0.5506612814192114\n",
      "The Training AUC of the epoch,  0.79441\n",
      "The validation loss of the epoch,  0.558308479772217\n",
      "The validation AUC of the epoch, 0.79242\n",
      "----------------------------------------------------\n"
     ]
    },
    {
     "name": "stderr",
     "output_type": "stream",
     "text": [
      "100%|██████████████████████████████████████████████████████████████████████████████████████████████████████████████████████████████████████████████████████████████████████████| 1740/1740 [04:31<00:00,  6.42it/s]\n",
      "100%|████████████████████████████████████████████████████████████████████████████████████████████████████████████████████████████████████████████████████████████████████████████| 435/435 [00:23<00:00, 18.80it/s]\n"
     ]
    },
    {
     "name": "stdout",
     "output_type": "stream",
     "text": [
      "----------------------------------------------------\n",
      "Epoch No 5\n",
      "The Training loss of the epoch,  0.5480957839166981\n",
      "The Training AUC of the epoch,  0.79687\n",
      "The validation loss of the epoch,  0.5833568553814943\n",
      "The validation AUC of the epoch, 0.78387\n",
      "----------------------------------------------------\n"
     ]
    },
    {
     "name": "stderr",
     "output_type": "stream",
     "text": [
      "100%|██████████████████████████████████████████████████████████████████████████████████████████████████████████████████████████████████████████████████████████████████████████| 1740/1740 [04:31<00:00,  6.41it/s]\n",
      "100%|████████████████████████████████████████████████████████████████████████████████████████████████████████████████████████████████████████████████████████████████████████████| 435/435 [00:23<00:00, 18.91it/s]\n"
     ]
    },
    {
     "name": "stdout",
     "output_type": "stream",
     "text": [
      "----------------------------------------------------\n",
      "Epoch No 6\n",
      "The Training loss of the epoch,  0.5450148778057646\n",
      "The Training AUC of the epoch,  0.79968\n",
      "The validation loss of the epoch,  0.5601266882200351\n",
      "The validation AUC of the epoch, 0.78956\n",
      "----------------------------------------------------\n"
     ]
    },
    {
     "name": "stderr",
     "output_type": "stream",
     "text": [
      "100%|██████████████████████████████████████████████████████████████████████████████████████████████████████████████████████████████████████████████████████████████████████████| 1740/1740 [04:25<00:00,  6.56it/s]\n",
      "100%|████████████████████████████████████████████████████████████████████████████████████████████████████████████████████████████████████████████████████████████████████████████| 435/435 [00:23<00:00, 18.83it/s]\n"
     ]
    },
    {
     "name": "stdout",
     "output_type": "stream",
     "text": [
      "----------------------------------------------------\n",
      "Epoch No 7\n",
      "The Training loss of the epoch,  0.5419888981971247\n",
      "The Training AUC of the epoch,  0.80247\n",
      "The validation loss of the epoch,  0.5596174751890117\n",
      "The validation AUC of the epoch, 0.78879\n",
      "----------------------------------------------------\n"
     ]
    },
    {
     "name": "stderr",
     "output_type": "stream",
     "text": [
      "100%|██████████████████████████████████████████████████████████████████████████████████████████████████████████████████████████████████████████████████████████████████████████| 1740/1740 [04:26<00:00,  6.54it/s]\n",
      "100%|████████████████████████████████████████████████████████████████████████████████████████████████████████████████████████████████████████████████████████████████████████████| 435/435 [00:23<00:00, 18.80it/s]\n"
     ]
    },
    {
     "name": "stdout",
     "output_type": "stream",
     "text": [
      "----------------------------------------------------\n",
      "Epoch No 8\n",
      "The Training loss of the epoch,  0.5385207625812498\n",
      "The Training AUC of the epoch,  0.80550\n",
      "The validation loss of the epoch,  0.5585095877619995\n",
      "The validation AUC of the epoch, 0.79286\n",
      "----------------------------------------------------\n"
     ]
    },
    {
     "name": "stderr",
     "output_type": "stream",
     "text": [
      "100%|██████████████████████████████████████████████████████████████████████████████████████████████████████████████████████████████████████████████████████████████████████████| 1740/1740 [04:25<00:00,  6.55it/s]\n",
      "100%|████████████████████████████████████████████████████████████████████████████████████████████████████████████████████████████████████████████████████████████████████████████| 435/435 [00:23<00:00, 18.83it/s]\n"
     ]
    },
    {
     "name": "stdout",
     "output_type": "stream",
     "text": [
      "----------------------------------------------------\n",
      "Epoch No 9\n",
      "The Training loss of the epoch,  0.5334763972923673\n",
      "The Training AUC of the epoch,  0.80988\n",
      "The validation loss of the epoch,  0.5563038445067132\n",
      "The validation AUC of the epoch, 0.79147\n",
      "----------------------------------------------------\n"
     ]
    },
    {
     "name": "stderr",
     "output_type": "stream",
     "text": [
      "100%|██████████████████████████████████████████████████████████████████████████████████████████████████████████████████████████████████████████████████████████████████████████| 1740/1740 [04:25<00:00,  6.54it/s]\n",
      "100%|████████████████████████████████████████████████████████████████████████████████████████████████████████████████████████████████████████████████████████████████████████████| 435/435 [00:23<00:00, 18.84it/s]\n"
     ]
    },
    {
     "name": "stdout",
     "output_type": "stream",
     "text": [
      "----------------------------------------------------\n",
      "Epoch No 10\n",
      "The Training loss of the epoch,  0.5277993797228254\n",
      "The Training AUC of the epoch,  0.81480\n",
      "The validation loss of the epoch,  0.5728602062011587\n",
      "The validation AUC of the epoch, 0.78551\n",
      "----------------------------------------------------\n"
     ]
    },
    {
     "name": "stderr",
     "output_type": "stream",
     "text": [
      "100%|██████████████████████████████████████████████████████████████████████████████████████████████████████████████████████████████████████████████████████████████████████████| 1740/1740 [04:30<00:00,  6.43it/s]\n",
      "100%|████████████████████████████████████████████████████████████████████████████████████████████████████████████████████████████████████████████████████████████████████████████| 435/435 [00:23<00:00, 18.86it/s]\n"
     ]
    },
    {
     "name": "stdout",
     "output_type": "stream",
     "text": [
      "----------------------------------------------------\n",
      "Epoch No 11\n",
      "The Training loss of the epoch,  0.5206053790004774\n",
      "The Training AUC of the epoch,  0.82073\n",
      "The validation loss of the epoch,  0.564088521058532\n",
      "The validation AUC of the epoch, 0.78720\n",
      "----------------------------------------------------\n"
     ]
    },
    {
     "name": "stderr",
     "output_type": "stream",
     "text": [
      "100%|██████████████████████████████████████████████████████████████████████████████████████████████████████████████████████████████████████████████████████████████████████████| 1740/1740 [04:25<00:00,  6.56it/s]\n",
      "100%|████████████████████████████████████████████████████████████████████████████████████████████████████████████████████████████████████████████████████████████████████████████| 435/435 [00:23<00:00, 18.89it/s]\n"
     ]
    },
    {
     "name": "stdout",
     "output_type": "stream",
     "text": [
      "----------------------------------------------------\n",
      "Epoch No 12\n",
      "The Training loss of the epoch,  0.509600337106606\n",
      "The Training AUC of the epoch,  0.82960\n",
      "The validation loss of the epoch,  0.5877501178746936\n",
      "The validation AUC of the epoch, 0.78169\n",
      "----------------------------------------------------\n",
      "Epoch 00013: reducing learning rate of group 0 to 5.0000e-04.\n"
     ]
    },
    {
     "name": "stderr",
     "output_type": "stream",
     "text": [
      "100%|██████████████████████████████████████████████████████████████████████████████████████████████████████████████████████████████████████████████████████████████████████████| 1740/1740 [04:26<00:00,  6.53it/s]\n",
      "100%|████████████████████████████████████████████████████████████████████████████████████████████████████████████████████████████████████████████████████████████████████████████| 435/435 [00:23<00:00, 18.85it/s]\n"
     ]
    },
    {
     "name": "stdout",
     "output_type": "stream",
     "text": [
      "----------------------------------------------------\n",
      "Epoch No 13\n",
      "The Training loss of the epoch,  0.4769301164424282\n",
      "The Training AUC of the epoch,  0.85363\n",
      "The validation loss of the epoch,  0.5990958924951224\n",
      "The validation AUC of the epoch, 0.77218\n",
      "----------------------------------------------------\n"
     ]
    },
    {
     "name": "stderr",
     "output_type": "stream",
     "text": [
      "100%|██████████████████████████████████████████████████████████████████████████████████████████████████████████████████████████████████████████████████████████████████████████| 1740/1740 [04:25<00:00,  6.55it/s]\n",
      "100%|████████████████████████████████████████████████████████████████████████████████████████████████████████████████████████████████████████████████████████████████████████████| 435/435 [00:23<00:00, 18.76it/s]\n"
     ]
    },
    {
     "name": "stdout",
     "output_type": "stream",
     "text": [
      "----------------------------------------------------\n",
      "Epoch No 14\n",
      "The Training loss of the epoch,  0.4502398319456769\n",
      "The Training AUC of the epoch,  0.87124\n",
      "The validation loss of the epoch,  0.657389451511975\n",
      "The validation AUC of the epoch, 0.76476\n",
      "----------------------------------------------------\n"
     ]
    },
    {
     "name": "stderr",
     "output_type": "stream",
     "text": [
      "100%|██████████████████████████████████████████████████████████████████████████████████████████████████████████████████████████████████████████████████████████████████████████| 1740/1740 [04:29<00:00,  6.45it/s]\n",
      "100%|████████████████████████████████████████████████████████████████████████████████████████████████████████████████████████████████████████████████████████████████████████████| 435/435 [00:23<00:00, 18.86it/s]\n"
     ]
    },
    {
     "name": "stdout",
     "output_type": "stream",
     "text": [
      "----------------------------------------------------\n",
      "Epoch No 15\n",
      "The Training loss of the epoch,  0.4222019625891899\n",
      "The Training AUC of the epoch,  0.88802\n",
      "The validation loss of the epoch,  0.6624563026017156\n",
      "The validation AUC of the epoch, 0.76350\n",
      "----------------------------------------------------\n"
     ]
    },
    {
     "name": "stderr",
     "output_type": "stream",
     "text": [
      "100%|██████████████████████████████████████████████████████████████████████████████████████████████████████████████████████████████████████████████████████████████████████████| 1740/1740 [04:25<00:00,  6.55it/s]\n",
      "100%|████████████████████████████████████████████████████████████████████████████████████████████████████████████████████████████████████████████████████████████████████████████| 435/435 [00:23<00:00, 18.86it/s]\n"
     ]
    },
    {
     "name": "stdout",
     "output_type": "stream",
     "text": [
      "----------------------------------------------------\n",
      "Epoch No 16\n",
      "The Training loss of the epoch,  0.39044156724522855\n",
      "The Training AUC of the epoch,  0.90509\n",
      "The validation loss of the epoch,  0.694027151527076\n",
      "The validation AUC of the epoch, 0.74128\n",
      "----------------------------------------------------\n",
      "Epoch 00017: reducing learning rate of group 0 to 2.5000e-04.\n"
     ]
    },
    {
     "name": "stderr",
     "output_type": "stream",
     "text": [
      "100%|██████████████████████████████████████████████████████████████████████████████████████████████████████████████████████████████████████████████████████████████████████████| 1740/1740 [04:31<00:00,  6.41it/s]\n",
      "100%|████████████████████████████████████████████████████████████████████████████████████████████████████████████████████████████████████████████████████████████████████████████| 435/435 [00:23<00:00, 18.84it/s]\n"
     ]
    },
    {
     "name": "stdout",
     "output_type": "stream",
     "text": [
      "----------------------------------------------------\n",
      "Epoch No 17\n",
      "The Training loss of the epoch,  0.32417810560985544\n",
      "The Training AUC of the epoch,  0.93516\n",
      "The validation loss of the epoch,  0.7897569359719068\n",
      "The validation AUC of the epoch, 0.72993\n",
      "----------------------------------------------------\n"
     ]
    },
    {
     "name": "stderr",
     "output_type": "stream",
     "text": [
      "100%|██████████████████████████████████████████████████████████████████████████████████████████████████████████████████████████████████████████████████████████████████████████| 1740/1740 [04:24<00:00,  6.58it/s]\n",
      "100%|████████████████████████████████████████████████████████████████████████████████████████████████████████████████████████████████████████████████████████████████████████████| 435/435 [00:23<00:00, 18.87it/s]\n"
     ]
    },
    {
     "name": "stdout",
     "output_type": "stream",
     "text": [
      "----------------------------------------------------\n",
      "Epoch No 18\n",
      "The Training loss of the epoch,  0.28740628085944847\n",
      "The Training AUC of the epoch,  0.94898\n",
      "The validation loss of the epoch,  0.8743613706923079\n",
      "The validation AUC of the epoch, 0.73207\n",
      "----------------------------------------------------\n"
     ]
    },
    {
     "name": "stderr",
     "output_type": "stream",
     "text": [
      "100%|██████████████████████████████████████████████████████████████████████████████████████████████████████████████████████████████████████████████████████████████████████████| 1740/1740 [04:24<00:00,  6.58it/s]\n",
      "100%|████████████████████████████████████████████████████████████████████████████████████████████████████████████████████████████████████████████████████████████████████████████| 435/435 [00:23<00:00, 18.88it/s]\n"
     ]
    },
    {
     "name": "stdout",
     "output_type": "stream",
     "text": [
      "----------------------------------------------------\n",
      "Epoch No 19\n",
      "The Training loss of the epoch,  0.2543750142014917\n",
      "The Training AUC of the epoch,  0.95982\n",
      "The validation loss of the epoch,  0.944632142508167\n",
      "The validation AUC of the epoch, 0.72057\n",
      "----------------------------------------------------\n"
     ]
    },
    {
     "data": {
      "text/html": [
       "Waiting for W&B process to finish... <strong style=\"color:green\">(success).</strong>"
      ],
      "text/plain": [
       "<IPython.core.display.HTML object>"
      ]
     },
     "metadata": {},
     "output_type": "display_data"
    },
    {
     "data": {
      "text/html": [
       "<style>\n",
       "    table.wandb td:nth-child(1) { padding: 0 10px; text-align: left ; width: auto;} td:nth-child(2) {text-align: left ; width: 100%}\n",
       "    .wandb-row { display: flex; flex-direction: row; flex-wrap: wrap; justify-content: flex-start; width: 100% }\n",
       "    .wandb-col { display: flex; flex-direction: column; flex-basis: 100%; flex: 1; padding: 10px; }\n",
       "    </style>\n",
       "<div class=\"wandb-row\"><div class=\"wandb-col\"><h3>Run history:</h3><br/><table class=\"wandb\"><tr><td>Epoch</td><td>▁▁▂▂▂▃▃▄▄▄▅▅▅▆▆▇▇▇██</td></tr><tr><td>Lr</td><td>████████████▃▃▃▃▁▁▁▁</td></tr><tr><td>Train_auc_epoch</td><td>▁▁▂▂▂▂▂▂▂▂▃▃▃▄▅▅▆▇██</td></tr><tr><td>Train_loss_epoch</td><td>████▇▇▇▇▇▇▇▇▇▆▅▅▄▃▂▁</td></tr><tr><td>Val_auc_epoch</td><td>▇▇███▇████▇▇▇▆▅▅▃▂▂▁</td></tr><tr><td>Val_loss_epoch</td><td>▁▁▁▂▁▁▁▁▁▁▁▁▂▂▃▃▃▅▇█</td></tr><tr><td>loss</td><td>▆▆██▆▇▅▇▅█▆█▇▆▇▆▅▆▅▆▇█▅▅▆█▅▅▅▄▄▅▄▇▁▃▂▂▂▃</td></tr><tr><td>val_loss</td><td>▃▃▃▃▂▂▂▂▂▃▂▄▂▁▂▃▂▂▄▃▃▃▄▁▃▃▃▂▂▃▄▅▅▆▆▅▂▃██</td></tr></table><br/></div><div class=\"wandb-col\"><h3>Run summary:</h3><br/><table class=\"wandb\"><tr><td>Epoch</td><td>19</td></tr><tr><td>Lr</td><td>0.00025</td></tr><tr><td>Train_auc_epoch</td><td>0.95982</td></tr><tr><td>Train_loss_epoch</td><td>0.25438</td></tr><tr><td>Val_auc_epoch</td><td>0.72057</td></tr><tr><td>Val_loss_epoch</td><td>0.94463</td></tr><tr><td>loss</td><td>0.34535</td></tr><tr><td>val_loss</td><td>1.04256</td></tr></table><br/></div></div>"
      ],
      "text/plain": [
       "<IPython.core.display.HTML object>"
      ]
     },
     "metadata": {},
     "output_type": "display_data"
    },
    {
     "data": {
      "text/html": [
       " View run <strong style=\"color:#cdcd00\">C4</strong> at: <a href='https://wandb.ai/dc250601/Equivariant/runs/h34bera8' target=\"_blank\">https://wandb.ai/dc250601/Equivariant/runs/h34bera8</a><br/>Synced 5 W&B file(s), 0 media file(s), 0 artifact file(s) and 1 other file(s)"
      ],
      "text/plain": [
       "<IPython.core.display.HTML object>"
      ]
     },
     "metadata": {},
     "output_type": "display_data"
    },
    {
     "data": {
      "text/html": [
       "Find logs at: <code>./wandb/run-20230403_010301-h34bera8/logs</code>"
      ],
      "text/plain": [
       "<IPython.core.display.HTML object>"
      ]
     },
     "metadata": {},
     "output_type": "display_data"
    }
   ],
   "source": [
    "trainer()"
   ]
  }
 ],
 "metadata": {
  "kernelspec": {
   "display_name": "work",
   "language": "python",
   "name": "work"
  },
  "language_info": {
   "codemirror_mode": {
    "name": "ipython",
    "version": 3
   },
   "file_extension": ".py",
   "mimetype": "text/x-python",
   "name": "python",
   "nbconvert_exporter": "python",
   "pygments_lexer": "ipython3",
   "version": "3.8.10"
  }
 },
 "nbformat": 4,
 "nbformat_minor": 4
}
