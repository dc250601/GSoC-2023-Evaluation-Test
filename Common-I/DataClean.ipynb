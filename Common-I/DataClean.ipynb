{
 "cells": [
  {
   "cell_type": "code",
   "execution_count": 1,
   "id": "d8e575b6",
   "metadata": {},
   "outputs": [],
   "source": [
    "import numpy as np\n",
    "import os\n",
    "import h5py\n",
    "import pandas as pd\n",
    "from PIL import Image as im"
   ]
  },
  {
   "cell_type": "code",
   "execution_count": 2,
   "id": "40013f90",
   "metadata": {},
   "outputs": [],
   "source": [
    "f = h5py.File(\"Electron.hdf5\", \"r\")\n",
    "g = h5py.File(\"Photon.hdf5\",\"r\")"
   ]
  },
  {
   "cell_type": "code",
   "execution_count": 3,
   "id": "8dba1a64",
   "metadata": {},
   "outputs": [
    {
     "data": {
      "text/plain": [
       "<KeysViewHDF5 ['X', 'y']>"
      ]
     },
     "execution_count": 3,
     "metadata": {},
     "output_type": "execute_result"
    }
   ],
   "source": [
    "f.keys()\n",
    "g.keys()"
   ]
  },
  {
   "cell_type": "code",
   "execution_count": 158,
   "id": "0c2308da",
   "metadata": {},
   "outputs": [],
   "source": [
    "electron = np.asarray(f['X'])\n",
    "photon = np.asarray(g['X'])\n"
   ]
  },
  {
   "cell_type": "code",
   "execution_count": 728,
   "id": "c6409af6",
   "metadata": {},
   "outputs": [],
   "source": [
    "channel1_elect = (electron[:,:,:,0] - electron[:,:,:,0].min())/(electron[:,:,:,0].max() - electron[:,:,:,0].min()) \n",
    "channel2_elect = (electron[:,:,:,1] - electron[:,:,:,1].min())/(electron[:,:,:,1].max() - electron[:,:,:,1].min())\n",
    "channel1_phot = (photon[:,:,:,0] - photon[:,:,:,0].min())/(photon[:,:,:,0].max() - photon[:,:,:,0].min()) \n",
    "channel2_phot = (photon[:,:,:,1] - photon[:,:,:,1].min())/(photon[:,:,:,1].max() - photon[:,:,:,1].min())\n"
   ]
  },
  {
   "cell_type": "code",
   "execution_count": 736,
   "id": "598d12a0",
   "metadata": {},
   "outputs": [],
   "source": [
    "channel1_elect_reshaped = np.reshape(channel1_elect, (-1, (32*32)))\n",
    "channel2_elect_reshaped = np.reshape(channel2_elect, (-1, (32*32)))\n",
    "channel1_phot_reshaped = np.reshape(channel1_phot, (-1, (32*32)))\n",
    "channel2_phot_reshaped = np.reshape(channel2_phot, (-1, (32*32)))\n",
    "elect_reshaped = np.concatenate([channel1_elect_reshaped,channel2_elect_reshaped], axis = -1)\n",
    "phot_reshaped = np.concatenate([channel1_phot_reshaped,channel2_phot_reshaped], axis = -1)"
   ]
  },
  {
   "cell_type": "code",
   "execution_count": 749,
   "id": "22b949ef",
   "metadata": {},
   "outputs": [],
   "source": [
    "elect_reshaped = elect_reshaped * 255\n",
    "phot_reshaped = phot_reshaped * 255\n",
    "elect_reshaped = elect_reshaped.astype(np.uint8)\n",
    "phot_reshaped = phot_reshaped.astype(np.uint8)"
   ]
  },
  {
   "cell_type": "code",
   "execution_count": 761,
   "id": "74822305",
   "metadata": {},
   "outputs": [
    {
     "data": {
      "text/plain": [
       "<matplotlib.image.AxesImage at 0x2611c801cd0>"
      ]
     },
     "execution_count": 761,
     "metadata": {},
     "output_type": "execute_result"
    },
    {
     "data": {
      "image/png": "[encoded data removed]",
      "text/plain": [
       "<Figure size 432x288 with 1 Axes>"
      ]
     },
     "metadata": {
      "needs_background": "light"
     },
     "output_type": "display_data"
    }
   ],
   "source": [
    "plt.imshow(np.reshape(elect_reshaped[3,1024:2048],(32,32)))"
   ]
  },
  {
   "cell_type": "code",
   "execution_count": 763,
   "id": "9eeb3dfc",
   "metadata": {},
   "outputs": [],
   "source": [
    "electron_clean = np.zeros((elect_reshaped.shape[0],2049) ,dtype = np.uint8 )\n",
    "photon_clean = np.zeros((phot_reshaped.shape[0],2049) ,dtype = np.uint8 )\n",
    "electron_clean[:,2048] = 1\n",
    "photon_clean[:,2048] = 0\n",
    "electron_clean[:,:2048] = elect_reshaped\n",
    "photon_clean[:,:2048] = phot_reshaped"
   ]
  },
  {
   "cell_type": "code",
   "execution_count": 772,
   "id": "ff3b6766",
   "metadata": {},
   "outputs": [],
   "source": [
    "data = np.concatenate([electron_clean,photon_clean], axis = 0)\n",
    "np.random.shuffle(data)"
   ]
  },
  {
   "cell_type": "code",
   "execution_count": 783,
   "id": "31156e83",
   "metadata": {},
   "outputs": [],
   "source": [
    "np.save(\"Dataset_Experiment.npy\", data)"
   ]
  },
  {
   "cell_type": "code",
   "execution_count": 784,
   "id": "4ce10ecc",
   "metadata": {},
   "outputs": [
    {
     "data": {
      "text/plain": [
       "(498000, 2049)"
      ]
     },
     "execution_count": 784,
     "metadata": {},
     "output_type": "execute_result"
    }
   ],
   "source": [
    "data.shape"
   ]
  }
 ],
 "metadata": {
  "kernelspec": {
   "display_name": "Python 3",
   "language": "python",
   "name": "python3"
  },
  "language_info": {
   "codemirror_mode": {
    "name": "ipython",
    "version": 3
   },
   "file_extension": ".py",
   "mimetype": "text/x-python",
   "name": "python",
   "nbconvert_exporter": "python",
   "pygments_lexer": "ipython3",
   "version": "3.8.8"
  }
 },
 "nbformat": 4,
 "nbformat_minor": 5
}
